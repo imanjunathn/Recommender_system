{
 "cells": [
  {
   "cell_type": "code",
   "execution_count": 1,
   "metadata": {},
   "outputs": [],
   "source": [
    "#import necessary frameworks.\n",
    "import numpy as np\n",
    "import pandas as pd\n",
    "\n",
    "import matplotlib.pyplot as plt\n",
    "%matplotlib inline\n",
    "import seaborn as sns\n",
    "\n",
    "from surprise.model_selection import train_test_split\n",
    "from surprise import KNNWithMeans,KNNWithZScore, SVD, SlopeOne, SVDpp, NMF, NormalPredictor, KNNBaseline, KNNBasic,BaselineOnly, CoClustering\n",
    "from surprise import Reader,Dataset\n",
    "from surprise import accuracy\n",
    "from surprise.model_selection import cross_validate\n",
    "from surprise.model_selection import GridSearchCV\n",
    "\n",
    "from scipy.sparse import csr_matrix\n",
    "\n",
    "from sklearn.neighbors import NearestNeighbors\n",
    "import warnings\n",
    "warnings.filterwarnings(\"ignore\")\n",
    "\n",
    "from sklearn.metrics import mean_squared_error\n",
    "import math\n"
   ]
  },
  {
   "cell_type": "code",
   "execution_count": 2,
   "metadata": {},
   "outputs": [],
   "source": [
    "# Load Electronics ratings data.\n",
    "# Add column names.\n",
    "e_commerce_data = pd.read_csv('ratings_Electronics.csv')\n",
    "e_commerce_data.columns = ['userID','productID','rating','timestamp']"
   ]
  },
  {
   "cell_type": "code",
   "execution_count": 3,
   "metadata": {},
   "outputs": [
    {
     "data": {
      "text/html": [
       "<div>\n",
       "<style scoped>\n",
       "    .dataframe tbody tr th:only-of-type {\n",
       "        vertical-align: middle;\n",
       "    }\n",
       "\n",
       "    .dataframe tbody tr th {\n",
       "        vertical-align: top;\n",
       "    }\n",
       "\n",
       "    .dataframe thead th {\n",
       "        text-align: right;\n",
       "    }\n",
       "</style>\n",
       "<table border=\"1\" class=\"dataframe\">\n",
       "  <thead>\n",
       "    <tr style=\"text-align: right;\">\n",
       "      <th></th>\n",
       "      <th>userID</th>\n",
       "      <th>productID</th>\n",
       "      <th>rating</th>\n",
       "    </tr>\n",
       "  </thead>\n",
       "  <tbody>\n",
       "    <tr>\n",
       "      <th>0</th>\n",
       "      <td>A2CX7LUOHB2NDG</td>\n",
       "      <td>0321732944</td>\n",
       "      <td>5.0</td>\n",
       "    </tr>\n",
       "    <tr>\n",
       "      <th>1</th>\n",
       "      <td>A2NWSAGRHCP8N5</td>\n",
       "      <td>0439886341</td>\n",
       "      <td>1.0</td>\n",
       "    </tr>\n",
       "    <tr>\n",
       "      <th>2</th>\n",
       "      <td>A2WNBOD3WNDNKT</td>\n",
       "      <td>0439886341</td>\n",
       "      <td>3.0</td>\n",
       "    </tr>\n",
       "    <tr>\n",
       "      <th>3</th>\n",
       "      <td>A1GI0U4ZRJA8WN</td>\n",
       "      <td>0439886341</td>\n",
       "      <td>1.0</td>\n",
       "    </tr>\n",
       "    <tr>\n",
       "      <th>4</th>\n",
       "      <td>A1QGNMC6O1VW39</td>\n",
       "      <td>0511189877</td>\n",
       "      <td>5.0</td>\n",
       "    </tr>\n",
       "  </tbody>\n",
       "</table>\n",
       "</div>"
      ],
      "text/plain": [
       "           userID   productID  rating\n",
       "0  A2CX7LUOHB2NDG  0321732944     5.0\n",
       "1  A2NWSAGRHCP8N5  0439886341     1.0\n",
       "2  A2WNBOD3WNDNKT  0439886341     3.0\n",
       "3  A1GI0U4ZRJA8WN  0439886341     1.0\n",
       "4  A1QGNMC6O1VW39  0511189877     5.0"
      ]
     },
     "execution_count": 3,
     "metadata": {},
     "output_type": "execute_result"
    }
   ],
   "source": [
    "# Let's see how the data is present.\n",
    "e_commerce_data.drop(columns=['timestamp'],inplace=True)\n",
    "e_commerce_data.head()"
   ]
  },
  {
   "cell_type": "code",
   "execution_count": 4,
   "metadata": {},
   "outputs": [
    {
     "name": "stdout",
     "output_type": "stream",
     "text": [
      "Numeber of rows:7824481 and number of cols:3\n"
     ]
    }
   ],
   "source": [
    "# Let's check shape of the data\n",
    "print(f\"Numeber of rows:{e_commerce_data.shape[0]} and number of cols:{e_commerce_data.shape[1]}\")"
   ]
  },
  {
   "cell_type": "code",
   "execution_count": 5,
   "metadata": {},
   "outputs": [
    {
     "name": "stdout",
     "output_type": "stream",
     "text": [
      "<class 'pandas.core.frame.DataFrame'>\n",
      "RangeIndex: 7824481 entries, 0 to 7824480\n",
      "Data columns (total 3 columns):\n",
      "userID       object\n",
      "productID    object\n",
      "rating       float64\n",
      "dtypes: float64(1), object(2)\n",
      "memory usage: 179.1+ MB\n"
     ]
    }
   ],
   "source": [
    "e_commerce_data.info()"
   ]
  },
  {
   "cell_type": "code",
   "execution_count": 6,
   "metadata": {},
   "outputs": [
    {
     "data": {
      "text/plain": [
       "userID       False\n",
       "productID    False\n",
       "rating       False\n",
       "dtype: bool"
      ]
     },
     "execution_count": 6,
     "metadata": {},
     "output_type": "execute_result"
    }
   ],
   "source": [
    "# Let's check any NaN value present in data.\n",
    "e_commerce_data.isna().any()"
   ]
  },
  {
   "cell_type": "code",
   "execution_count": 7,
   "metadata": {},
   "outputs": [
    {
     "data": {
      "text/plain": [
       "count    7.824481e+06\n",
       "mean     4.012337e+00\n",
       "std      1.380910e+00\n",
       "min      1.000000e+00\n",
       "25%      3.000000e+00\n",
       "50%      5.000000e+00\n",
       "75%      5.000000e+00\n",
       "max      5.000000e+00\n",
       "Name: rating, dtype: float64"
      ]
     },
     "execution_count": 7,
     "metadata": {},
     "output_type": "execute_result"
    }
   ],
   "source": [
    "e_commerce_data.rating.describe().T"
   ]
  },
  {
   "cell_type": "code",
   "execution_count": 8,
   "metadata": {},
   "outputs": [
    {
     "data": {
      "text/plain": [
       "<matplotlib.axes._subplots.AxesSubplot at 0x11ca1a978>"
      ]
     },
     "execution_count": 8,
     "metadata": {},
     "output_type": "execute_result"
    },
    {
     "data": {
      "image/png": "[encoded data removed]",
      "text/plain": [
       "<Figure size 432x288 with 1 Axes>"
      ]
     },
     "metadata": {
      "needs_background": "light"
     },
     "output_type": "display_data"
    }
   ],
   "source": [
    "# Let's check distribution of userRatings\n",
    "sns.countplot(e_commerce_data.rating)"
   ]
  },
  {
   "cell_type": "code",
   "execution_count": 9,
   "metadata": {},
   "outputs": [
    {
     "data": {
      "text/plain": [
       "userID\n",
       "A5JLAU2ARJ0BO     520\n",
       "ADLVFFE4VBT8      501\n",
       "A3OXHLG6DIBRW8    498\n",
       "A6FIAB28IS79      431\n",
       "A680RUE1FDO8B     406\n",
       "A1ODOGXEYECQQ8    380\n",
       "A36K2N527TXXJN    314\n",
       "A2AY4YUOX2N1BQ    311\n",
       "AWPODHOB4GFWL     308\n",
       "A25C2M3QF9G7OQ    296\n",
       "ARBKYIVNYWK3C     296\n",
       "A22CW0ZHY3NJH8    292\n",
       "A3EXWV8FNSSFL6    282\n",
       "A38RMU1Y5TDP9     282\n",
       "A3LGT6UZL99IW1    279\n",
       "A2NOW4U7W3F7RI    277\n",
       "A23GFTVIETX7DS    270\n",
       "A3PD8JD9L4WEII    266\n",
       "A17BUUBOU0598B    261\n",
       "A3AYSYSLHU26U9    257\n",
       "A2XRMQA6PJ5ZJ8    253\n",
       "A231WM2Z2JL0U3    252\n",
       "A12DQZKRKTNF5E    252\n",
       "A1UQBFCERIP7VJ    247\n",
       "AGVWTYW0ULXHT     244\n",
       "A203OCQQ12MAVT    240\n",
       "AEJAGHLC675A7     239\n",
       "A2NYK9KWFMJV4Y    238\n",
       "A3A4ZAIBQWKOZS    236\n",
       "A3CW0ZLUO5X2B1    227\n",
       "A1T1YSCDW0PD25    227\n",
       "A31N0XY2UTB25C    227\n",
       "A2UOHALGF2X77Q    227\n",
       "A250AXLRBVYKB4    226\n",
       "A4WEZJOIZIV4U     225\n",
       "A1CMD08Z49PGKQ    221\n",
       "A1VQHH85U7PX0     220\n",
       "A1J75JJ0Q2OEJN    218\n",
       "AOEAD7DPLZE53     218\n",
       "A11KZ906QD08C5    216\n",
       "A20DZX38KRBIT8    213\n",
       "A1F9Z42CFF9IAY    213\n",
       "AVPNQUVZWMDSX     212\n",
       "A3OA4DV4L81N1D    209\n",
       "A1EVV74UQYVKRY    208\n",
       "A1EXGL6L0QQ0M5    207\n",
       "AT6CZDCP4TRGA     207\n",
       "A11I1I9QLMAM1A    205\n",
       "A3CG93783LP0FO    204\n",
       "A2BMZRO0H7TFCS    202\n",
       "Name: rating, dtype: int64"
      ]
     },
     "execution_count": 9,
     "metadata": {},
     "output_type": "execute_result"
    }
   ],
   "source": [
    "e_commerce_data.groupby('userID')['rating'].count().sort_values(ascending=False)[0:50]\n",
    "# here, I'm grouped by userID and taken top 50 ratings counts."
   ]
  },
  {
   "cell_type": "code",
   "execution_count": 10,
   "metadata": {},
   "outputs": [
    {
     "name": "stdout",
     "output_type": "stream",
     "text": [
      "Unique userId ids: 4201696\n",
      "Unique productId ids: 476001\n"
     ]
    }
   ],
   "source": [
    "print(f'Unique userId ids: {e_commerce_data.userID.nunique()}')\n",
    "print(f'Unique productId ids: {e_commerce_data.productID.nunique()}')"
   ]
  },
  {
   "cell_type": "code",
   "execution_count": 11,
   "metadata": {},
   "outputs": [],
   "source": [
    "user_counts = e_commerce_data['userID'].value_counts()"
   ]
  },
  {
   "cell_type": "code",
   "execution_count": 12,
   "metadata": {},
   "outputs": [
    {
     "data": {
      "text/plain": [
       "51"
      ]
     },
     "execution_count": 12,
     "metadata": {},
     "output_type": "execute_result"
    }
   ],
   "source": [
    "len(user_counts[user_counts>=202])"
   ]
  },
  {
   "cell_type": "code",
   "execution_count": 13,
   "metadata": {},
   "outputs": [],
   "source": [
    "# I am considering 200 ratings counts based on userID\n",
    "filter_ = user_counts >= 200\n",
    "filter_ = filter_[filter_].index.tolist()"
   ]
  },
  {
   "cell_type": "code",
   "execution_count": 14,
   "metadata": {},
   "outputs": [],
   "source": [
    "# taking only those filtered information from original data.\n",
    "new_e_commerce_data = e_commerce_data[e_commerce_data['userID'].isin(filter_)]"
   ]
  },
  {
   "cell_type": "code",
   "execution_count": 15,
   "metadata": {},
   "outputs": [
    {
     "data": {
      "text/html": [
       "<div>\n",
       "<style scoped>\n",
       "    .dataframe tbody tr th:only-of-type {\n",
       "        vertical-align: middle;\n",
       "    }\n",
       "\n",
       "    .dataframe tbody tr th {\n",
       "        vertical-align: top;\n",
       "    }\n",
       "\n",
       "    .dataframe thead th {\n",
       "        text-align: right;\n",
       "    }\n",
       "</style>\n",
       "<table border=\"1\" class=\"dataframe\">\n",
       "  <thead>\n",
       "    <tr style=\"text-align: right;\">\n",
       "      <th></th>\n",
       "      <th>userID</th>\n",
       "      <th>productID</th>\n",
       "      <th>rating</th>\n",
       "    </tr>\n",
       "  </thead>\n",
       "  <tbody>\n",
       "    <tr>\n",
       "      <th>2161</th>\n",
       "      <td>A5JLAU2ARJ0BO</td>\n",
       "      <td>1400532655</td>\n",
       "      <td>1.0</td>\n",
       "    </tr>\n",
       "    <tr>\n",
       "      <th>3382</th>\n",
       "      <td>A3PD8JD9L4WEII</td>\n",
       "      <td>1400699169</td>\n",
       "      <td>5.0</td>\n",
       "    </tr>\n",
       "    <tr>\n",
       "      <th>4613</th>\n",
       "      <td>A1VQHH85U7PX0</td>\n",
       "      <td>9043413585</td>\n",
       "      <td>3.0</td>\n",
       "    </tr>\n",
       "    <tr>\n",
       "      <th>5194</th>\n",
       "      <td>A36K2N527TXXJN</td>\n",
       "      <td>9800359788</td>\n",
       "      <td>5.0</td>\n",
       "    </tr>\n",
       "    <tr>\n",
       "      <th>5931</th>\n",
       "      <td>ADLVFFE4VBT8</td>\n",
       "      <td>9981719005</td>\n",
       "      <td>3.0</td>\n",
       "    </tr>\n",
       "  </tbody>\n",
       "</table>\n",
       "</div>"
      ],
      "text/plain": [
       "              userID   productID  rating\n",
       "2161   A5JLAU2ARJ0BO  1400532655     1.0\n",
       "3382  A3PD8JD9L4WEII  1400699169     5.0\n",
       "4613   A1VQHH85U7PX0  9043413585     3.0\n",
       "5194  A36K2N527TXXJN  9800359788     5.0\n",
       "5931    ADLVFFE4VBT8  9981719005     3.0"
      ]
     },
     "execution_count": 15,
     "metadata": {},
     "output_type": "execute_result"
    }
   ],
   "source": [
    "new_e_commerce_data.head()"
   ]
  },
  {
   "cell_type": "code",
   "execution_count": 16,
   "metadata": {},
   "outputs": [
    {
     "data": {
      "text/plain": [
       "(13862, 3)"
      ]
     },
     "execution_count": 16,
     "metadata": {},
     "output_type": "execute_result"
    }
   ],
   "source": [
    "new_e_commerce_data.shape"
   ]
  },
  {
   "cell_type": "code",
   "execution_count": 17,
   "metadata": {},
   "outputs": [
    {
     "data": {
      "text/plain": [
       "52"
      ]
     },
     "execution_count": 17,
     "metadata": {},
     "output_type": "execute_result"
    }
   ],
   "source": [
    "# let's check number of unique firequently visited users\n",
    "new_e_commerce_data.userID.nunique()"
   ]
  },
  {
   "cell_type": "code",
   "execution_count": 18,
   "metadata": {},
   "outputs": [
    {
     "data": {
      "text/plain": [
       "9673"
      ]
     },
     "execution_count": 18,
     "metadata": {},
     "output_type": "execute_result"
    }
   ],
   "source": [
    "# let's check number of unique  products firequently visited by users\n",
    "new_e_commerce_data.productID.nunique()"
   ]
  },
  {
   "cell_type": "markdown",
   "metadata": {},
   "source": [
    "# Popularity based Recommender system"
   ]
  },
  {
   "cell_type": "code",
   "execution_count": 19,
   "metadata": {},
   "outputs": [],
   "source": [
    "# Define a class 'PopularityBasedRecommender'\n",
    "class PopularityBasedRecommender:\n",
    "    \n",
    "    # initialize cunstructor with data.\n",
    "    def __init__(self,data):\n",
    "        self.data = data\n",
    "    \n",
    "    # Here create top 5 popular recommendations to user.\n",
    "    def createTopRecommendations(self,no_recommedations=5):\n",
    "        data_df = self.data.groupby('productID').agg({'userID':'count'}).reset_index()\n",
    "        data_df.rename(columns={'userID':'userID_count'},inplace=True)\n",
    "        \n",
    "        data_df_sort = data_df.sort_values(['userID_count','productID'],ascending=[0,1])\n",
    "        data_df_sort['rank'] = data_df_sort['userID_count'].rank(ascending=False,method='first')\n",
    "        print('Bellow are the top {} recommendations:'.format(no_recommedations))\n",
    "        print(data_df_sort.head(no_recommedations))"
   ]
  },
  {
   "cell_type": "code",
   "execution_count": 20,
   "metadata": {},
   "outputs": [],
   "source": [
    "# Initialze class here.\n",
    "PR = PopularityBasedRecommender(new_e_commerce_data)"
   ]
  },
  {
   "cell_type": "code",
   "execution_count": 21,
   "metadata": {},
   "outputs": [
    {
     "name": "stdout",
     "output_type": "stream",
     "text": [
      "Bellow are the top 5 recommendations:\n",
      "       productID  userID_count  rank\n",
      "5266  B003ES5ZUU            17   1.0\n",
      "2260  B000JMJWV2            16   2.0\n",
      "5895  B004CLYEDC            15   3.0\n",
      "4779  B002R5AM7C            14   4.0\n",
      "7372  B007OY5V68            14   5.0\n"
     ]
    }
   ],
   "source": [
    "PR.createTopRecommendations()"
   ]
  },
  {
   "cell_type": "code",
   "execution_count": 22,
   "metadata": {},
   "outputs": [
    {
     "data": {
      "text/html": [
       "<div>\n",
       "<style scoped>\n",
       "    .dataframe tbody tr th:only-of-type {\n",
       "        vertical-align: middle;\n",
       "    }\n",
       "\n",
       "    .dataframe tbody tr th {\n",
       "        vertical-align: top;\n",
       "    }\n",
       "\n",
       "    .dataframe thead th {\n",
       "        text-align: right;\n",
       "    }\n",
       "</style>\n",
       "<table border=\"1\" class=\"dataframe\">\n",
       "  <thead>\n",
       "    <tr style=\"text-align: right;\">\n",
       "      <th></th>\n",
       "      <th>productID</th>\n",
       "      <th>rating</th>\n",
       "    </tr>\n",
       "  </thead>\n",
       "  <tbody>\n",
       "    <tr>\n",
       "      <th>0</th>\n",
       "      <td>B003ES5ZUU</td>\n",
       "      <td>17</td>\n",
       "    </tr>\n",
       "    <tr>\n",
       "      <th>1</th>\n",
       "      <td>B000JMJWV2</td>\n",
       "      <td>16</td>\n",
       "    </tr>\n",
       "    <tr>\n",
       "      <th>2</th>\n",
       "      <td>B004CLYEDC</td>\n",
       "      <td>15</td>\n",
       "    </tr>\n",
       "    <tr>\n",
       "      <th>3</th>\n",
       "      <td>B007OY5V68</td>\n",
       "      <td>14</td>\n",
       "    </tr>\n",
       "    <tr>\n",
       "      <th>4</th>\n",
       "      <td>B00829THK0</td>\n",
       "      <td>14</td>\n",
       "    </tr>\n",
       "  </tbody>\n",
       "</table>\n",
       "</div>"
      ],
      "text/plain": [
       "    productID  rating\n",
       "0  B003ES5ZUU      17\n",
       "1  B000JMJWV2      16\n",
       "2  B004CLYEDC      15\n",
       "3  B007OY5V68      14\n",
       "4  B00829THK0      14"
      ]
     },
     "execution_count": 22,
     "metadata": {},
     "output_type": "execute_result"
    }
   ],
   "source": [
    "# Checking \n",
    "popular_items_df = new_e_commerce_data.groupby(['productID'])['rating'].count().sort_values(ascending=False).reset_index()\n",
    "popular_items_df.head(5)\n"
   ]
  },
  {
   "cell_type": "markdown",
   "metadata": {},
   "source": [
    "# Collabrative Filtering\n",
    "### using surprise.BaselineOnly()"
   ]
  },
  {
   "cell_type": "code",
   "execution_count": 23,
   "metadata": {},
   "outputs": [
    {
     "data": {
      "text/plain": [
       "(1.0, 5.0)"
      ]
     },
     "execution_count": 23,
     "metadata": {},
     "output_type": "execute_result"
    }
   ],
   "source": [
    "# check upper and lower ratings from data.\n",
    "lower_rating = new_e_commerce_data.rating.min()\n",
    "upper_rating = new_e_commerce_data.rating.max()\n",
    "lower_rating,upper_rating"
   ]
  },
  {
   "cell_type": "code",
   "execution_count": 24,
   "metadata": {},
   "outputs": [
    {
     "name": "stdout",
     "output_type": "stream",
     "text": [
      "              userID   productID  rating\n",
      "2161   A5JLAU2ARJ0BO  1400532655     1.0\n",
      "3382  A3PD8JD9L4WEII  1400699169     5.0\n",
      "4613   A1VQHH85U7PX0  9043413585     3.0\n",
      "5194  A36K2N527TXXJN  9800359788     5.0\n",
      "5931    ADLVFFE4VBT8  9981719005     3.0\n"
     ]
    }
   ],
   "source": [
    "# Convert the dataframe into dataset, shwich supports the surprise lib models.\n",
    "# First define a reader, whcih intakes lower and upper ratings.\n",
    "reader = Reader(rating_scale=(lower_rating, upper_rating))\n",
    "df = new_e_commerce_data[['userID', 'productID', 'rating']]\n",
    "print(df.head())\n",
    "# Bys using load_from_df load the original data as a dataset with the help of reader.\n",
    "data_df = Dataset.load_from_df(df, reader)"
   ]
  },
  {
   "cell_type": "code",
   "execution_count": 25,
   "metadata": {},
   "outputs": [],
   "source": [
    "# Devide the dataset into train and test.\n",
    "train_data,test_data = train_test_split(data_df,test_size=0.15,random_state=42)"
   ]
  },
  {
   "cell_type": "code",
   "execution_count": 26,
   "metadata": {},
   "outputs": [
    {
     "data": {
      "text/plain": [
       "2080"
      ]
     },
     "execution_count": 26,
     "metadata": {},
     "output_type": "execute_result"
    }
   ],
   "source": [
    "len(test_data)"
   ]
  },
  {
   "cell_type": "code",
   "execution_count": 27,
   "metadata": {},
   "outputs": [],
   "source": [
    "# the bellow code is used to check which model peroformase good based rmse using cross validate method,"
   ]
  },
  {
   "cell_type": "code",
   "execution_count": 28,
   "metadata": {},
   "outputs": [
    {
     "name": "stdout",
     "output_type": "stream",
     "text": [
      "Estimating biases using als...\n",
      "Computing the msd similarity matrix...\n",
      "Done computing similarity matrix.\n",
      "Estimating biases using als...\n",
      "Computing the msd similarity matrix...\n",
      "Done computing similarity matrix.\n",
      "Estimating biases using als...\n",
      "Computing the msd similarity matrix...\n",
      "Done computing similarity matrix.\n",
      "Computing the msd similarity matrix...\n",
      "Done computing similarity matrix.\n",
      "Computing the msd similarity matrix...\n",
      "Done computing similarity matrix.\n",
      "Computing the msd similarity matrix...\n",
      "Done computing similarity matrix.\n",
      "Computing the msd similarity matrix...\n",
      "Done computing similarity matrix.\n",
      "Computing the msd similarity matrix...\n",
      "Done computing similarity matrix.\n",
      "Computing the msd similarity matrix...\n",
      "Done computing similarity matrix.\n",
      "Computing the msd similarity matrix...\n",
      "Done computing similarity matrix.\n",
      "Computing the msd similarity matrix...\n",
      "Done computing similarity matrix.\n",
      "Computing the msd similarity matrix...\n",
      "Done computing similarity matrix.\n",
      "Estimating biases using als...\n",
      "Estimating biases using als...\n",
      "Estimating biases using als...\n"
     ]
    },
    {
     "data": {
      "text/html": [
       "<div>\n",
       "<style scoped>\n",
       "    .dataframe tbody tr th:only-of-type {\n",
       "        vertical-align: middle;\n",
       "    }\n",
       "\n",
       "    .dataframe tbody tr th {\n",
       "        vertical-align: top;\n",
       "    }\n",
       "\n",
       "    .dataframe thead th {\n",
       "        text-align: right;\n",
       "    }\n",
       "</style>\n",
       "<table border=\"1\" class=\"dataframe\">\n",
       "  <thead>\n",
       "    <tr style=\"text-align: right;\">\n",
       "      <th></th>\n",
       "      <th>test_rmse</th>\n",
       "      <th>fit_time</th>\n",
       "      <th>test_time</th>\n",
       "    </tr>\n",
       "    <tr>\n",
       "      <th>Algorithm</th>\n",
       "      <th></th>\n",
       "      <th></th>\n",
       "      <th></th>\n",
       "    </tr>\n",
       "  </thead>\n",
       "  <tbody>\n",
       "    <tr>\n",
       "      <th>BaselineOnly</th>\n",
       "      <td>0.932605</td>\n",
       "      <td>0.046804</td>\n",
       "      <td>0.039637</td>\n",
       "    </tr>\n",
       "    <tr>\n",
       "      <th>SVDpp</th>\n",
       "      <td>0.936627</td>\n",
       "      <td>35.316133</td>\n",
       "      <td>0.712990</td>\n",
       "    </tr>\n",
       "    <tr>\n",
       "      <th>SVD</th>\n",
       "      <td>0.936756</td>\n",
       "      <td>0.839131</td>\n",
       "      <td>0.048113</td>\n",
       "    </tr>\n",
       "    <tr>\n",
       "      <th>KNNBaseline</th>\n",
       "      <td>0.980562</td>\n",
       "      <td>0.050595</td>\n",
       "      <td>0.098282</td>\n",
       "    </tr>\n",
       "    <tr>\n",
       "      <th>KNNWithMeans</th>\n",
       "      <td>1.021788</td>\n",
       "      <td>0.011339</td>\n",
       "      <td>0.063986</td>\n",
       "    </tr>\n",
       "    <tr>\n",
       "      <th>KNNWithZScore</th>\n",
       "      <td>1.027453</td>\n",
       "      <td>0.018332</td>\n",
       "      <td>0.067918</td>\n",
       "    </tr>\n",
       "    <tr>\n",
       "      <th>SlopeOne</th>\n",
       "      <td>1.037534</td>\n",
       "      <td>1.759358</td>\n",
       "      <td>0.326491</td>\n",
       "    </tr>\n",
       "    <tr>\n",
       "      <th>CoClustering</th>\n",
       "      <td>1.041840</td>\n",
       "      <td>1.423883</td>\n",
       "      <td>0.041025</td>\n",
       "    </tr>\n",
       "    <tr>\n",
       "      <th>KNNBasic</th>\n",
       "      <td>1.051005</td>\n",
       "      <td>0.004707</td>\n",
       "      <td>0.088601</td>\n",
       "    </tr>\n",
       "    <tr>\n",
       "      <th>NMF</th>\n",
       "      <td>1.091692</td>\n",
       "      <td>1.501911</td>\n",
       "      <td>0.067900</td>\n",
       "    </tr>\n",
       "    <tr>\n",
       "      <th>NormalPredictor</th>\n",
       "      <td>1.304989</td>\n",
       "      <td>0.020370</td>\n",
       "      <td>0.065222</td>\n",
       "    </tr>\n",
       "  </tbody>\n",
       "</table>\n",
       "</div>"
      ],
      "text/plain": [
       "                 test_rmse   fit_time  test_time\n",
       "Algorithm                                       \n",
       "BaselineOnly      0.932605   0.046804   0.039637\n",
       "SVDpp             0.936627  35.316133   0.712990\n",
       "SVD               0.936756   0.839131   0.048113\n",
       "KNNBaseline       0.980562   0.050595   0.098282\n",
       "KNNWithMeans      1.021788   0.011339   0.063986\n",
       "KNNWithZScore     1.027453   0.018332   0.067918\n",
       "SlopeOne          1.037534   1.759358   0.326491\n",
       "CoClustering      1.041840   1.423883   0.041025\n",
       "KNNBasic          1.051005   0.004707   0.088601\n",
       "NMF               1.091692   1.501911   0.067900\n",
       "NormalPredictor   1.304989   0.020370   0.065222"
      ]
     },
     "execution_count": 28,
     "metadata": {},
     "output_type": "execute_result"
    }
   ],
   "source": [
    "benchmark = []\n",
    "# Iterate over all algorithms\n",
    "for algorithm in [SVD(), SVDpp(), SlopeOne(), NMF(), NormalPredictor(), KNNBaseline(), KNNBasic(), KNNWithMeans(), KNNWithZScore(), BaselineOnly(), CoClustering()]:\n",
    "    # Perform cross validation\n",
    "    results = cross_validate(algorithm, data_df, measures=['RMSE'], cv=3, verbose=False)\n",
    "    \n",
    "    # Get results & append algorithm name\n",
    "    tmp = pd.DataFrame.from_dict(results).mean(axis=0)\n",
    "    tmp = tmp.append(pd.Series([str(algorithm).split(' ')[0].split('.')[-1]], index=['Algorithm']))\n",
    "    benchmark.append(tmp)\n",
    "    \n",
    "pd.DataFrame(benchmark).set_index('Algorithm').sort_values('test_rmse')  "
   ]
  },
  {
   "cell_type": "code",
   "execution_count": 29,
   "metadata": {},
   "outputs": [],
   "source": [
    "# As we can see, in the above dataframe.\n",
    "# Whcih is sorted based on 'rmse' values.\n",
    "# bases on this rmse value, I can say 'BaselineOnly' performance is good.\n",
    "# And, I go head and build model."
   ]
  },
  {
   "cell_type": "code",
   "execution_count": 30,
   "metadata": {},
   "outputs": [
    {
     "name": "stdout",
     "output_type": "stream",
     "text": [
      "Estimating biases using als...\n"
     ]
    },
    {
     "data": {
      "text/plain": [
       "<surprise.prediction_algorithms.baseline_only.BaselineOnly at 0x11ef71da0>"
      ]
     },
     "execution_count": 30,
     "metadata": {},
     "output_type": "execute_result"
    }
   ],
   "source": [
    "model = BaselineOnly()\n",
    "model.fit(train_data)"
   ]
  },
  {
   "cell_type": "code",
   "execution_count": 31,
   "metadata": {},
   "outputs": [
    {
     "data": {
      "text/plain": [
       "{'test_rmse': array([0.93317286, 0.93824396, 0.92473708]),\n",
       " 'train_rmse': array([0.84682158, 0.84389256, 0.8507389 ]),\n",
       " 'fit_time': (0.03506827354431152, 0.031929969787597656, 0.03034806251525879),\n",
       " 'test_time': (0.039067983627319336,\n",
       "  0.03959083557128906,\n",
       "  0.041136980056762695)}"
      ]
     },
     "execution_count": 31,
     "metadata": {},
     "output_type": "execute_result"
    }
   ],
   "source": [
    "cross_validate(model, data_df,\n",
    "               measures=['rmse'],\n",
    "               cv=3, verbose=False,\n",
    "               n_jobs=-1,\n",
    "               return_train_measures=True)"
   ]
  },
  {
   "cell_type": "code",
   "execution_count": 32,
   "metadata": {},
   "outputs": [],
   "source": [
    "test_pred = model.test(test_data)"
   ]
  },
  {
   "cell_type": "code",
   "execution_count": 33,
   "metadata": {},
   "outputs": [
    {
     "data": {
      "text/plain": [
       "[Prediction(uid='A23GFTVIETX7DS', iid='B0079TOEQQ', r_ui=5.0, est=4.4992465260358845, details={'was_impossible': False}),\n",
       " Prediction(uid='AGVWTYW0ULXHT', iid='B008X1BVH4', r_ui=4.0, est=3.975508594103089, details={'was_impossible': False}),\n",
       " Prediction(uid='A3OXHLG6DIBRW8', iid='B000QWG43Y', r_ui=5.0, est=4.509538015187333, details={'was_impossible': False}),\n",
       " Prediction(uid='A36K2N527TXXJN', iid='B003M0NT1M', r_ui=5.0, est=4.4279045090969005, details={'was_impossible': False}),\n",
       " Prediction(uid='A203OCQQ12MAVT', iid='B000AZJ268', r_ui=4.0, est=4.44400847053451, details={'was_impossible': False}),\n",
       " Prediction(uid='A203OCQQ12MAVT', iid='B0009KF9BQ', r_ui=1.0, est=4.44400847053451, details={'was_impossible': False}),\n",
       " Prediction(uid='A231WM2Z2JL0U3', iid='B00006JHTQ', r_ui=4.0, est=4.32426144905868, details={'was_impossible': False}),\n",
       " Prediction(uid='A3OXHLG6DIBRW8', iid='B002RWJGTU', r_ui=5.0, est=4.453580716114752, details={'was_impossible': False}),\n",
       " Prediction(uid='A4WEZJOIZIV4U', iid='B0056C4VRK', r_ui=5.0, est=4.5072035675329145, details={'was_impossible': False}),\n",
       " Prediction(uid='A1CMD08Z49PGKQ', iid='B00G335A58', r_ui=5.0, est=4.748105551313411, details={'was_impossible': False})]"
      ]
     },
     "execution_count": 33,
     "metadata": {},
     "output_type": "execute_result"
    }
   ],
   "source": [
    "test_pred[0:10]"
   ]
  },
  {
   "cell_type": "code",
   "execution_count": 34,
   "metadata": {},
   "outputs": [
    {
     "name": "stdout",
     "output_type": "stream",
     "text": [
      "RMSE: 0.9311\n"
     ]
    },
    {
     "data": {
      "text/plain": [
       "0.9310853471817272"
      ]
     },
     "execution_count": 34,
     "metadata": {},
     "output_type": "execute_result"
    }
   ],
   "source": [
    "accuracy.rmse(test_pred)"
   ]
  },
  {
   "cell_type": "code",
   "execution_count": 35,
   "metadata": {},
   "outputs": [
    {
     "data": {
      "text/plain": [
       "Prediction(uid='A23GFTVIETX7DS', iid='B0079TOEQQ', r_ui=None, est=4.4992465260358845, details={'was_impossible': False})"
      ]
     },
     "execution_count": 35,
     "metadata": {},
     "output_type": "execute_result"
    }
   ],
   "source": [
    "model.predict('A23GFTVIETX7DS','B0079TOEQQ')"
   ]
  },
  {
   "cell_type": "markdown",
   "metadata": {},
   "source": [
    "### using scipy.sparse.linalg.svds()"
   ]
  },
  {
   "cell_type": "markdown",
   "metadata": {},
   "source": [
    "#### Preprocessing data"
   ]
  },
  {
   "cell_type": "code",
   "execution_count": 36,
   "metadata": {},
   "outputs": [],
   "source": [
    "# Prepare pivot dataframe from 'new_e_commerce_data'.\n",
    "# 'new_e_commerce_data' is a dataframe, where it consists only users who have more than 290 counts.\n",
    "final_rating_matrix = new_e_commerce_data.pivot(index='userID',columns='productID',values='rating').fillna(0)"
   ]
  },
  {
   "cell_type": "code",
   "execution_count": 37,
   "metadata": {},
   "outputs": [
    {
     "data": {
      "text/html": [
       "<div>\n",
       "<style scoped>\n",
       "    .dataframe tbody tr th:only-of-type {\n",
       "        vertical-align: middle;\n",
       "    }\n",
       "\n",
       "    .dataframe tbody tr th {\n",
       "        vertical-align: top;\n",
       "    }\n",
       "\n",
       "    .dataframe thead th {\n",
       "        text-align: right;\n",
       "    }\n",
       "</style>\n",
       "<table border=\"1\" class=\"dataframe\">\n",
       "  <thead>\n",
       "    <tr style=\"text-align: right;\">\n",
       "      <th>productID</th>\n",
       "      <th>1400532655</th>\n",
       "      <th>1400699169</th>\n",
       "      <th>9043413585</th>\n",
       "      <th>9800359788</th>\n",
       "      <th>9981719005</th>\n",
       "      <th>998376234X</th>\n",
       "      <th>B000001OMI</th>\n",
       "      <th>B000001ON0</th>\n",
       "      <th>B00000DM9M</th>\n",
       "      <th>B00000DM9W</th>\n",
       "      <th>...</th>\n",
       "      <th>B00L21HC7A</th>\n",
       "      <th>B00L2442H0</th>\n",
       "      <th>B00L26YDA4</th>\n",
       "      <th>B00L2P3TRS</th>\n",
       "      <th>B00L3YHF6O</th>\n",
       "      <th>B00L43HAY6</th>\n",
       "      <th>B00L8I6SFY</th>\n",
       "      <th>B00LA6T0LS</th>\n",
       "      <th>B00LGQ6HL8</th>\n",
       "      <th>B00LI4ZZO8</th>\n",
       "    </tr>\n",
       "    <tr>\n",
       "      <th>userID</th>\n",
       "      <th></th>\n",
       "      <th></th>\n",
       "      <th></th>\n",
       "      <th></th>\n",
       "      <th></th>\n",
       "      <th></th>\n",
       "      <th></th>\n",
       "      <th></th>\n",
       "      <th></th>\n",
       "      <th></th>\n",
       "      <th></th>\n",
       "      <th></th>\n",
       "      <th></th>\n",
       "      <th></th>\n",
       "      <th></th>\n",
       "      <th></th>\n",
       "      <th></th>\n",
       "      <th></th>\n",
       "      <th></th>\n",
       "      <th></th>\n",
       "      <th></th>\n",
       "    </tr>\n",
       "  </thead>\n",
       "  <tbody>\n",
       "    <tr>\n",
       "      <th>A11I1I9QLMAM1A</th>\n",
       "      <td>0.0</td>\n",
       "      <td>0.0</td>\n",
       "      <td>0.0</td>\n",
       "      <td>0.0</td>\n",
       "      <td>0.0</td>\n",
       "      <td>0.0</td>\n",
       "      <td>0.0</td>\n",
       "      <td>0.0</td>\n",
       "      <td>0.0</td>\n",
       "      <td>0.0</td>\n",
       "      <td>...</td>\n",
       "      <td>0.0</td>\n",
       "      <td>0.0</td>\n",
       "      <td>0.0</td>\n",
       "      <td>0.0</td>\n",
       "      <td>0.0</td>\n",
       "      <td>0.0</td>\n",
       "      <td>0.0</td>\n",
       "      <td>0.0</td>\n",
       "      <td>0.0</td>\n",
       "      <td>0.0</td>\n",
       "    </tr>\n",
       "    <tr>\n",
       "      <th>A11KZ906QD08C5</th>\n",
       "      <td>0.0</td>\n",
       "      <td>0.0</td>\n",
       "      <td>0.0</td>\n",
       "      <td>0.0</td>\n",
       "      <td>0.0</td>\n",
       "      <td>0.0</td>\n",
       "      <td>0.0</td>\n",
       "      <td>0.0</td>\n",
       "      <td>0.0</td>\n",
       "      <td>0.0</td>\n",
       "      <td>...</td>\n",
       "      <td>0.0</td>\n",
       "      <td>0.0</td>\n",
       "      <td>0.0</td>\n",
       "      <td>0.0</td>\n",
       "      <td>0.0</td>\n",
       "      <td>0.0</td>\n",
       "      <td>0.0</td>\n",
       "      <td>0.0</td>\n",
       "      <td>0.0</td>\n",
       "      <td>0.0</td>\n",
       "    </tr>\n",
       "    <tr>\n",
       "      <th>A12DQZKRKTNF5E</th>\n",
       "      <td>0.0</td>\n",
       "      <td>0.0</td>\n",
       "      <td>0.0</td>\n",
       "      <td>0.0</td>\n",
       "      <td>0.0</td>\n",
       "      <td>0.0</td>\n",
       "      <td>0.0</td>\n",
       "      <td>0.0</td>\n",
       "      <td>0.0</td>\n",
       "      <td>0.0</td>\n",
       "      <td>...</td>\n",
       "      <td>0.0</td>\n",
       "      <td>0.0</td>\n",
       "      <td>0.0</td>\n",
       "      <td>0.0</td>\n",
       "      <td>0.0</td>\n",
       "      <td>0.0</td>\n",
       "      <td>0.0</td>\n",
       "      <td>0.0</td>\n",
       "      <td>0.0</td>\n",
       "      <td>0.0</td>\n",
       "    </tr>\n",
       "    <tr>\n",
       "      <th>A17BUUBOU0598B</th>\n",
       "      <td>0.0</td>\n",
       "      <td>0.0</td>\n",
       "      <td>0.0</td>\n",
       "      <td>0.0</td>\n",
       "      <td>0.0</td>\n",
       "      <td>0.0</td>\n",
       "      <td>0.0</td>\n",
       "      <td>0.0</td>\n",
       "      <td>0.0</td>\n",
       "      <td>0.0</td>\n",
       "      <td>...</td>\n",
       "      <td>0.0</td>\n",
       "      <td>0.0</td>\n",
       "      <td>0.0</td>\n",
       "      <td>0.0</td>\n",
       "      <td>0.0</td>\n",
       "      <td>0.0</td>\n",
       "      <td>0.0</td>\n",
       "      <td>0.0</td>\n",
       "      <td>0.0</td>\n",
       "      <td>0.0</td>\n",
       "    </tr>\n",
       "    <tr>\n",
       "      <th>A1CMD08Z49PGKQ</th>\n",
       "      <td>0.0</td>\n",
       "      <td>0.0</td>\n",
       "      <td>0.0</td>\n",
       "      <td>0.0</td>\n",
       "      <td>0.0</td>\n",
       "      <td>0.0</td>\n",
       "      <td>0.0</td>\n",
       "      <td>0.0</td>\n",
       "      <td>0.0</td>\n",
       "      <td>0.0</td>\n",
       "      <td>...</td>\n",
       "      <td>0.0</td>\n",
       "      <td>0.0</td>\n",
       "      <td>0.0</td>\n",
       "      <td>0.0</td>\n",
       "      <td>0.0</td>\n",
       "      <td>0.0</td>\n",
       "      <td>0.0</td>\n",
       "      <td>0.0</td>\n",
       "      <td>0.0</td>\n",
       "      <td>0.0</td>\n",
       "    </tr>\n",
       "  </tbody>\n",
       "</table>\n",
       "<p>5 rows × 9673 columns</p>\n",
       "</div>"
      ],
      "text/plain": [
       "productID       1400532655  1400699169  9043413585  9800359788  9981719005  \\\n",
       "userID                                                                       \n",
       "A11I1I9QLMAM1A         0.0         0.0         0.0         0.0         0.0   \n",
       "A11KZ906QD08C5         0.0         0.0         0.0         0.0         0.0   \n",
       "A12DQZKRKTNF5E         0.0         0.0         0.0         0.0         0.0   \n",
       "A17BUUBOU0598B         0.0         0.0         0.0         0.0         0.0   \n",
       "A1CMD08Z49PGKQ         0.0         0.0         0.0         0.0         0.0   \n",
       "\n",
       "productID       998376234X  B000001OMI  B000001ON0  B00000DM9M  B00000DM9W  \\\n",
       "userID                                                                       \n",
       "A11I1I9QLMAM1A         0.0         0.0         0.0         0.0         0.0   \n",
       "A11KZ906QD08C5         0.0         0.0         0.0         0.0         0.0   \n",
       "A12DQZKRKTNF5E         0.0         0.0         0.0         0.0         0.0   \n",
       "A17BUUBOU0598B         0.0         0.0         0.0         0.0         0.0   \n",
       "A1CMD08Z49PGKQ         0.0         0.0         0.0         0.0         0.0   \n",
       "\n",
       "productID       ...  B00L21HC7A  B00L2442H0  B00L26YDA4  B00L2P3TRS  \\\n",
       "userID          ...                                                   \n",
       "A11I1I9QLMAM1A  ...         0.0         0.0         0.0         0.0   \n",
       "A11KZ906QD08C5  ...         0.0         0.0         0.0         0.0   \n",
       "A12DQZKRKTNF5E  ...         0.0         0.0         0.0         0.0   \n",
       "A17BUUBOU0598B  ...         0.0         0.0         0.0         0.0   \n",
       "A1CMD08Z49PGKQ  ...         0.0         0.0         0.0         0.0   \n",
       "\n",
       "productID       B00L3YHF6O  B00L43HAY6  B00L8I6SFY  B00LA6T0LS  B00LGQ6HL8  \\\n",
       "userID                                                                       \n",
       "A11I1I9QLMAM1A         0.0         0.0         0.0         0.0         0.0   \n",
       "A11KZ906QD08C5         0.0         0.0         0.0         0.0         0.0   \n",
       "A12DQZKRKTNF5E         0.0         0.0         0.0         0.0         0.0   \n",
       "A17BUUBOU0598B         0.0         0.0         0.0         0.0         0.0   \n",
       "A1CMD08Z49PGKQ         0.0         0.0         0.0         0.0         0.0   \n",
       "\n",
       "productID       B00LI4ZZO8  \n",
       "userID                      \n",
       "A11I1I9QLMAM1A         0.0  \n",
       "A11KZ906QD08C5         0.0  \n",
       "A12DQZKRKTNF5E         0.0  \n",
       "A17BUUBOU0598B         0.0  \n",
       "A1CMD08Z49PGKQ         0.0  \n",
       "\n",
       "[5 rows x 9673 columns]"
      ]
     },
     "execution_count": 37,
     "metadata": {},
     "output_type": "execute_result"
    }
   ],
   "source": [
    "# pivot dataframe\n",
    "final_rating_matrix.head()"
   ]
  },
  {
   "cell_type": "code",
   "execution_count": 38,
   "metadata": {},
   "outputs": [
    {
     "data": {
      "text/plain": [
       "(52, 9673)"
      ]
     },
     "execution_count": 38,
     "metadata": {},
     "output_type": "execute_result"
    }
   ],
   "source": [
    "final_rating_matrix.shape"
   ]
  },
  {
   "cell_type": "code",
   "execution_count": 39,
   "metadata": {},
   "outputs": [],
   "source": [
    "final_df = final_rating_matrix.copy(True)"
   ]
  },
  {
   "cell_type": "code",
   "execution_count": 40,
   "metadata": {},
   "outputs": [],
   "source": [
    "# Replace index column from 'userID' to 'user_index' numerical type\n",
    "final_df['user_index'] = np.arange(0,final_df.shape[0],1)\n",
    "final_df.set_index(['user_index'],inplace=True)"
   ]
  },
  {
   "cell_type": "code",
   "execution_count": 41,
   "metadata": {},
   "outputs": [
    {
     "data": {
      "text/html": [
       "<div>\n",
       "<style scoped>\n",
       "    .dataframe tbody tr th:only-of-type {\n",
       "        vertical-align: middle;\n",
       "    }\n",
       "\n",
       "    .dataframe tbody tr th {\n",
       "        vertical-align: top;\n",
       "    }\n",
       "\n",
       "    .dataframe thead th {\n",
       "        text-align: right;\n",
       "    }\n",
       "</style>\n",
       "<table border=\"1\" class=\"dataframe\">\n",
       "  <thead>\n",
       "    <tr style=\"text-align: right;\">\n",
       "      <th>productID</th>\n",
       "      <th>1400532655</th>\n",
       "      <th>1400699169</th>\n",
       "      <th>9043413585</th>\n",
       "      <th>9800359788</th>\n",
       "      <th>9981719005</th>\n",
       "      <th>998376234X</th>\n",
       "      <th>B000001OMI</th>\n",
       "      <th>B000001ON0</th>\n",
       "      <th>B00000DM9M</th>\n",
       "      <th>B00000DM9W</th>\n",
       "      <th>...</th>\n",
       "      <th>B00L21HC7A</th>\n",
       "      <th>B00L2442H0</th>\n",
       "      <th>B00L26YDA4</th>\n",
       "      <th>B00L2P3TRS</th>\n",
       "      <th>B00L3YHF6O</th>\n",
       "      <th>B00L43HAY6</th>\n",
       "      <th>B00L8I6SFY</th>\n",
       "      <th>B00LA6T0LS</th>\n",
       "      <th>B00LGQ6HL8</th>\n",
       "      <th>B00LI4ZZO8</th>\n",
       "    </tr>\n",
       "    <tr>\n",
       "      <th>user_index</th>\n",
       "      <th></th>\n",
       "      <th></th>\n",
       "      <th></th>\n",
       "      <th></th>\n",
       "      <th></th>\n",
       "      <th></th>\n",
       "      <th></th>\n",
       "      <th></th>\n",
       "      <th></th>\n",
       "      <th></th>\n",
       "      <th></th>\n",
       "      <th></th>\n",
       "      <th></th>\n",
       "      <th></th>\n",
       "      <th></th>\n",
       "      <th></th>\n",
       "      <th></th>\n",
       "      <th></th>\n",
       "      <th></th>\n",
       "      <th></th>\n",
       "      <th></th>\n",
       "    </tr>\n",
       "  </thead>\n",
       "  <tbody>\n",
       "    <tr>\n",
       "      <th>0</th>\n",
       "      <td>0.0</td>\n",
       "      <td>0.0</td>\n",
       "      <td>0.0</td>\n",
       "      <td>0.0</td>\n",
       "      <td>0.0</td>\n",
       "      <td>0.0</td>\n",
       "      <td>0.0</td>\n",
       "      <td>0.0</td>\n",
       "      <td>0.0</td>\n",
       "      <td>0.0</td>\n",
       "      <td>...</td>\n",
       "      <td>0.0</td>\n",
       "      <td>0.0</td>\n",
       "      <td>0.0</td>\n",
       "      <td>0.0</td>\n",
       "      <td>0.0</td>\n",
       "      <td>0.0</td>\n",
       "      <td>0.0</td>\n",
       "      <td>0.0</td>\n",
       "      <td>0.0</td>\n",
       "      <td>0.0</td>\n",
       "    </tr>\n",
       "    <tr>\n",
       "      <th>1</th>\n",
       "      <td>0.0</td>\n",
       "      <td>0.0</td>\n",
       "      <td>0.0</td>\n",
       "      <td>0.0</td>\n",
       "      <td>0.0</td>\n",
       "      <td>0.0</td>\n",
       "      <td>0.0</td>\n",
       "      <td>0.0</td>\n",
       "      <td>0.0</td>\n",
       "      <td>0.0</td>\n",
       "      <td>...</td>\n",
       "      <td>0.0</td>\n",
       "      <td>0.0</td>\n",
       "      <td>0.0</td>\n",
       "      <td>0.0</td>\n",
       "      <td>0.0</td>\n",
       "      <td>0.0</td>\n",
       "      <td>0.0</td>\n",
       "      <td>0.0</td>\n",
       "      <td>0.0</td>\n",
       "      <td>0.0</td>\n",
       "    </tr>\n",
       "    <tr>\n",
       "      <th>2</th>\n",
       "      <td>0.0</td>\n",
       "      <td>0.0</td>\n",
       "      <td>0.0</td>\n",
       "      <td>0.0</td>\n",
       "      <td>0.0</td>\n",
       "      <td>0.0</td>\n",
       "      <td>0.0</td>\n",
       "      <td>0.0</td>\n",
       "      <td>0.0</td>\n",
       "      <td>0.0</td>\n",
       "      <td>...</td>\n",
       "      <td>0.0</td>\n",
       "      <td>0.0</td>\n",
       "      <td>0.0</td>\n",
       "      <td>0.0</td>\n",
       "      <td>0.0</td>\n",
       "      <td>0.0</td>\n",
       "      <td>0.0</td>\n",
       "      <td>0.0</td>\n",
       "      <td>0.0</td>\n",
       "      <td>0.0</td>\n",
       "    </tr>\n",
       "    <tr>\n",
       "      <th>3</th>\n",
       "      <td>0.0</td>\n",
       "      <td>0.0</td>\n",
       "      <td>0.0</td>\n",
       "      <td>0.0</td>\n",
       "      <td>0.0</td>\n",
       "      <td>0.0</td>\n",
       "      <td>0.0</td>\n",
       "      <td>0.0</td>\n",
       "      <td>0.0</td>\n",
       "      <td>0.0</td>\n",
       "      <td>...</td>\n",
       "      <td>0.0</td>\n",
       "      <td>0.0</td>\n",
       "      <td>0.0</td>\n",
       "      <td>0.0</td>\n",
       "      <td>0.0</td>\n",
       "      <td>0.0</td>\n",
       "      <td>0.0</td>\n",
       "      <td>0.0</td>\n",
       "      <td>0.0</td>\n",
       "      <td>0.0</td>\n",
       "    </tr>\n",
       "    <tr>\n",
       "      <th>4</th>\n",
       "      <td>0.0</td>\n",
       "      <td>0.0</td>\n",
       "      <td>0.0</td>\n",
       "      <td>0.0</td>\n",
       "      <td>0.0</td>\n",
       "      <td>0.0</td>\n",
       "      <td>0.0</td>\n",
       "      <td>0.0</td>\n",
       "      <td>0.0</td>\n",
       "      <td>0.0</td>\n",
       "      <td>...</td>\n",
       "      <td>0.0</td>\n",
       "      <td>0.0</td>\n",
       "      <td>0.0</td>\n",
       "      <td>0.0</td>\n",
       "      <td>0.0</td>\n",
       "      <td>0.0</td>\n",
       "      <td>0.0</td>\n",
       "      <td>0.0</td>\n",
       "      <td>0.0</td>\n",
       "      <td>0.0</td>\n",
       "    </tr>\n",
       "  </tbody>\n",
       "</table>\n",
       "<p>5 rows × 9673 columns</p>\n",
       "</div>"
      ],
      "text/plain": [
       "productID   1400532655  1400699169  9043413585  9800359788  9981719005  \\\n",
       "user_index                                                               \n",
       "0                  0.0         0.0         0.0         0.0         0.0   \n",
       "1                  0.0         0.0         0.0         0.0         0.0   \n",
       "2                  0.0         0.0         0.0         0.0         0.0   \n",
       "3                  0.0         0.0         0.0         0.0         0.0   \n",
       "4                  0.0         0.0         0.0         0.0         0.0   \n",
       "\n",
       "productID   998376234X  B000001OMI  B000001ON0  B00000DM9M  B00000DM9W  ...  \\\n",
       "user_index                                                              ...   \n",
       "0                  0.0         0.0         0.0         0.0         0.0  ...   \n",
       "1                  0.0         0.0         0.0         0.0         0.0  ...   \n",
       "2                  0.0         0.0         0.0         0.0         0.0  ...   \n",
       "3                  0.0         0.0         0.0         0.0         0.0  ...   \n",
       "4                  0.0         0.0         0.0         0.0         0.0  ...   \n",
       "\n",
       "productID   B00L21HC7A  B00L2442H0  B00L26YDA4  B00L2P3TRS  B00L3YHF6O  \\\n",
       "user_index                                                               \n",
       "0                  0.0         0.0         0.0         0.0         0.0   \n",
       "1                  0.0         0.0         0.0         0.0         0.0   \n",
       "2                  0.0         0.0         0.0         0.0         0.0   \n",
       "3                  0.0         0.0         0.0         0.0         0.0   \n",
       "4                  0.0         0.0         0.0         0.0         0.0   \n",
       "\n",
       "productID   B00L43HAY6  B00L8I6SFY  B00LA6T0LS  B00LGQ6HL8  B00LI4ZZO8  \n",
       "user_index                                                              \n",
       "0                  0.0         0.0         0.0         0.0         0.0  \n",
       "1                  0.0         0.0         0.0         0.0         0.0  \n",
       "2                  0.0         0.0         0.0         0.0         0.0  \n",
       "3                  0.0         0.0         0.0         0.0         0.0  \n",
       "4                  0.0         0.0         0.0         0.0         0.0  \n",
       "\n",
       "[5 rows x 9673 columns]"
      ]
     },
     "execution_count": 41,
     "metadata": {},
     "output_type": "execute_result"
    }
   ],
   "source": [
    "final_df.head()"
   ]
  },
  {
   "cell_type": "markdown",
   "metadata": {},
   "source": [
    "### -----------------"
   ]
  },
  {
   "cell_type": "code",
   "execution_count": 42,
   "metadata": {},
   "outputs": [],
   "source": [
    "from scipy.sparse.linalg import svds"
   ]
  },
  {
   "cell_type": "code",
   "execution_count": 43,
   "metadata": {},
   "outputs": [],
   "source": [
    "# prepare 'UBCollabrativeFilter' class.\n",
    "class UBCollabrativeFilter:\n",
    "    \n",
    "    def __init__(self,actual_df):\n",
    "        self.actual_df = actual_df\n",
    "        \n",
    "    # To check the sparsity of the matrix\n",
    "    def checkSparsityOfData(self):\n",
    "        number_of_nozero_ratings = np.count_nonzero(self.actual_df)\n",
    "        sparsity = (1 - number_of_nozero_ratings / self.actual_df.size ) * 100\n",
    "        print('Num of non zero values: {}'.format(number_of_nozero_ratings))\n",
    "        print('Size of data: {}'.format(self.actual_df.size))\n",
    "        print('sparsity of the data is: {}%'.format(np.round(sparsity,2)))\n",
    "    \n",
    "    # To get the predicated rating for zero-ratings.\n",
    "    def getPredRatings(self):\n",
    "        pred_ratings_df = self.__svd_()\n",
    "        return pred_ratings_df\n",
    "       \n",
    "    # Calcualte SVD using actual data.\n",
    "    def __svd_(self):\n",
    "        # 'k' value should be between 1 and 'min(actual.shape)'.\n",
    "        k = min(self.actual_df.shape)\n",
    "        u,sigma,vt = svds(self.actual_df,k=k-1)\n",
    "        # Convert single D sigma to diagonal matrix.\n",
    "        sigma = np.diag(sigma)\n",
    "        # get dot product of u,sigma and vt.\n",
    "        pred_ratings_df = self.__dotProductAndPrepareDF(u,sigma,vt)\n",
    "        return pred_ratings_df\n",
    "    \n",
    "    # prepare dataframe from dot product of u, sigma and vt.\n",
    "    def __dotProductAndPrepareDF(self,u,sigma,vt):\n",
    "        pred_ratings_df = pd.DataFrame(np.dot(np.dot(u,sigma),vt),columns=self.actual_df.columns)\n",
    "        return pred_ratings_df\n",
    "    \n",
    "    # This method takes userId pred_df and no_recommendation as params.\n",
    "    # pred_df: is predicted ratings.\n",
    "    # no_recmmendation: is the count to show recommedations.\n",
    "    def recommendationUB(self,userId,pred_df,no_recmmendation):\n",
    "        # Here, reduce user_idx by one.\n",
    "        user_idx = userId-1\n",
    "        # get sorted actual ratings from actual df in Descending order.\n",
    "        sorted_actual_ratings = self.actual_df.iloc[user_idx].sort_values(ascending = False)\n",
    "        # get sorted pred ratings from pred df in Descending order.\n",
    "        sorted_pred_ratings = pred_df.iloc[user_idx].sort_values(ascending = False)\n",
    "        # concat actual and pred sorted ratings.\n",
    "        concat_df = pd.concat([sorted_actual_ratings,sorted_pred_ratings],axis=1)\n",
    "        concat_df.index.name = ['productID']\n",
    "        concat_df.columns = ['user_ratings','predicted_ratings']\n",
    "        # Filter concat df based on user_rating where 'user_ratings' has '0.0' ratings.\n",
    "        # Sort the filtered concat df based 'predicted_ratings'  in descending order.\n",
    "        concat_df = concat_df[concat_df.user_ratings == 0].sort_values('predicted_ratings',ascending = False)\n",
    "        print(concat_df.head(no_recmmendation))\n",
    "        mse_score = mean_squared_error(concat_df['user_ratings'],concat_df['predicted_ratings'])\n",
    "        rmse_score = math.sqrt(mse_score)\n",
    "        print('RMSE score: {}'.format(np.round(rmse_score,4)))\n",
    "    "
   ]
  },
  {
   "cell_type": "code",
   "execution_count": 44,
   "metadata": {},
   "outputs": [],
   "source": [
    "# Initialize the 'UBCollabrativeFilter' class with passing 'final_df'.\n",
    "ubCollabFilterObj = UBCollabrativeFilter(final_df)"
   ]
  },
  {
   "cell_type": "code",
   "execution_count": 45,
   "metadata": {},
   "outputs": [
    {
     "name": "stdout",
     "output_type": "stream",
     "text": [
      "Num of non zero values: 13862\n",
      "Size of data: 502996\n",
      "sparsity of the data is: 97.24%\n"
     ]
    }
   ],
   "source": [
    "# As we can see the matrix is sparsed.\n",
    "ubCollabFilterObj.checkSparsityOfData()"
   ]
  },
  {
   "cell_type": "code",
   "execution_count": 46,
   "metadata": {},
   "outputs": [],
   "source": [
    "# Get the prepdicated ratings by calling the 'getPredRatings()' method.\n",
    "predicted_ratings = ubCollabFilterObj.getPredRatings()"
   ]
  },
  {
   "cell_type": "code",
   "execution_count": 47,
   "metadata": {},
   "outputs": [
    {
     "data": {
      "text/html": [
       "<div>\n",
       "<style scoped>\n",
       "    .dataframe tbody tr th:only-of-type {\n",
       "        vertical-align: middle;\n",
       "    }\n",
       "\n",
       "    .dataframe tbody tr th {\n",
       "        vertical-align: top;\n",
       "    }\n",
       "\n",
       "    .dataframe thead th {\n",
       "        text-align: right;\n",
       "    }\n",
       "</style>\n",
       "<table border=\"1\" class=\"dataframe\">\n",
       "  <thead>\n",
       "    <tr style=\"text-align: right;\">\n",
       "      <th>productID</th>\n",
       "      <th>1400532655</th>\n",
       "      <th>1400699169</th>\n",
       "      <th>9043413585</th>\n",
       "      <th>9800359788</th>\n",
       "      <th>9981719005</th>\n",
       "      <th>998376234X</th>\n",
       "      <th>B000001OMI</th>\n",
       "      <th>B000001ON0</th>\n",
       "      <th>B00000DM9M</th>\n",
       "      <th>B00000DM9W</th>\n",
       "      <th>...</th>\n",
       "      <th>B00L21HC7A</th>\n",
       "      <th>B00L2442H0</th>\n",
       "      <th>B00L26YDA4</th>\n",
       "      <th>B00L2P3TRS</th>\n",
       "      <th>B00L3YHF6O</th>\n",
       "      <th>B00L43HAY6</th>\n",
       "      <th>B00L8I6SFY</th>\n",
       "      <th>B00LA6T0LS</th>\n",
       "      <th>B00LGQ6HL8</th>\n",
       "      <th>B00LI4ZZO8</th>\n",
       "    </tr>\n",
       "  </thead>\n",
       "  <tbody>\n",
       "    <tr>\n",
       "      <th>0</th>\n",
       "      <td>0.000035</td>\n",
       "      <td>0.000046</td>\n",
       "      <td>0.000246</td>\n",
       "      <td>0.000359</td>\n",
       "      <td>-0.000316</td>\n",
       "      <td>0.000237</td>\n",
       "      <td>-0.000447</td>\n",
       "      <td>-0.000899</td>\n",
       "      <td>-0.000339</td>\n",
       "      <td>0.000906</td>\n",
       "      <td>...</td>\n",
       "      <td>-0.000284</td>\n",
       "      <td>0.000160</td>\n",
       "      <td>0.000598</td>\n",
       "      <td>-0.000149</td>\n",
       "      <td>-0.000310</td>\n",
       "      <td>-0.000457</td>\n",
       "      <td>-0.000151</td>\n",
       "      <td>-0.000270</td>\n",
       "      <td>-0.000879</td>\n",
       "      <td>-0.000817</td>\n",
       "    </tr>\n",
       "    <tr>\n",
       "      <th>1</th>\n",
       "      <td>-0.000048</td>\n",
       "      <td>-0.000063</td>\n",
       "      <td>-0.000339</td>\n",
       "      <td>-0.000495</td>\n",
       "      <td>0.000435</td>\n",
       "      <td>-0.000326</td>\n",
       "      <td>0.000616</td>\n",
       "      <td>0.001237</td>\n",
       "      <td>0.000467</td>\n",
       "      <td>-0.001247</td>\n",
       "      <td>...</td>\n",
       "      <td>0.000390</td>\n",
       "      <td>-0.000220</td>\n",
       "      <td>-0.000823</td>\n",
       "      <td>0.000205</td>\n",
       "      <td>0.000427</td>\n",
       "      <td>0.000628</td>\n",
       "      <td>0.000208</td>\n",
       "      <td>0.000371</td>\n",
       "      <td>0.001210</td>\n",
       "      <td>0.001125</td>\n",
       "    </tr>\n",
       "    <tr>\n",
       "      <th>2</th>\n",
       "      <td>-0.000018</td>\n",
       "      <td>-0.000024</td>\n",
       "      <td>-0.000129</td>\n",
       "      <td>-0.000189</td>\n",
       "      <td>0.000166</td>\n",
       "      <td>-0.000124</td>\n",
       "      <td>0.000235</td>\n",
       "      <td>0.000472</td>\n",
       "      <td>0.000178</td>\n",
       "      <td>-0.000476</td>\n",
       "      <td>...</td>\n",
       "      <td>0.000149</td>\n",
       "      <td>-0.000084</td>\n",
       "      <td>-0.000314</td>\n",
       "      <td>0.000078</td>\n",
       "      <td>0.000163</td>\n",
       "      <td>0.000240</td>\n",
       "      <td>0.000079</td>\n",
       "      <td>0.000142</td>\n",
       "      <td>0.000461</td>\n",
       "      <td>0.000429</td>\n",
       "    </tr>\n",
       "    <tr>\n",
       "      <th>3</th>\n",
       "      <td>-0.000054</td>\n",
       "      <td>-0.000071</td>\n",
       "      <td>-0.000378</td>\n",
       "      <td>-0.000552</td>\n",
       "      <td>0.000485</td>\n",
       "      <td>-0.000364</td>\n",
       "      <td>0.000687</td>\n",
       "      <td>0.001382</td>\n",
       "      <td>0.000521</td>\n",
       "      <td>-0.001392</td>\n",
       "      <td>...</td>\n",
       "      <td>0.000436</td>\n",
       "      <td>-0.000245</td>\n",
       "      <td>-0.000919</td>\n",
       "      <td>0.000229</td>\n",
       "      <td>0.000476</td>\n",
       "      <td>0.000701</td>\n",
       "      <td>0.000232</td>\n",
       "      <td>0.000415</td>\n",
       "      <td>0.001351</td>\n",
       "      <td>0.001256</td>\n",
       "    </tr>\n",
       "    <tr>\n",
       "      <th>4</th>\n",
       "      <td>0.000019</td>\n",
       "      <td>0.000025</td>\n",
       "      <td>0.000132</td>\n",
       "      <td>0.000193</td>\n",
       "      <td>-0.000169</td>\n",
       "      <td>0.000127</td>\n",
       "      <td>-0.000240</td>\n",
       "      <td>-0.000482</td>\n",
       "      <td>-0.000182</td>\n",
       "      <td>0.000486</td>\n",
       "      <td>...</td>\n",
       "      <td>-0.000152</td>\n",
       "      <td>0.000086</td>\n",
       "      <td>0.000320</td>\n",
       "      <td>-0.000080</td>\n",
       "      <td>-0.000166</td>\n",
       "      <td>-0.000245</td>\n",
       "      <td>-0.000081</td>\n",
       "      <td>-0.000145</td>\n",
       "      <td>-0.000471</td>\n",
       "      <td>-0.000438</td>\n",
       "    </tr>\n",
       "  </tbody>\n",
       "</table>\n",
       "<p>5 rows × 9673 columns</p>\n",
       "</div>"
      ],
      "text/plain": [
       "productID  1400532655  1400699169  9043413585  9800359788  9981719005  \\\n",
       "0            0.000035    0.000046    0.000246    0.000359   -0.000316   \n",
       "1           -0.000048   -0.000063   -0.000339   -0.000495    0.000435   \n",
       "2           -0.000018   -0.000024   -0.000129   -0.000189    0.000166   \n",
       "3           -0.000054   -0.000071   -0.000378   -0.000552    0.000485   \n",
       "4            0.000019    0.000025    0.000132    0.000193   -0.000169   \n",
       "\n",
       "productID  998376234X  B000001OMI  B000001ON0  B00000DM9M  B00000DM9W  ...  \\\n",
       "0            0.000237   -0.000447   -0.000899   -0.000339    0.000906  ...   \n",
       "1           -0.000326    0.000616    0.001237    0.000467   -0.001247  ...   \n",
       "2           -0.000124    0.000235    0.000472    0.000178   -0.000476  ...   \n",
       "3           -0.000364    0.000687    0.001382    0.000521   -0.001392  ...   \n",
       "4            0.000127   -0.000240   -0.000482   -0.000182    0.000486  ...   \n",
       "\n",
       "productID  B00L21HC7A  B00L2442H0  B00L26YDA4  B00L2P3TRS  B00L3YHF6O  \\\n",
       "0           -0.000284    0.000160    0.000598   -0.000149   -0.000310   \n",
       "1            0.000390   -0.000220   -0.000823    0.000205    0.000427   \n",
       "2            0.000149   -0.000084   -0.000314    0.000078    0.000163   \n",
       "3            0.000436   -0.000245   -0.000919    0.000229    0.000476   \n",
       "4           -0.000152    0.000086    0.000320   -0.000080   -0.000166   \n",
       "\n",
       "productID  B00L43HAY6  B00L8I6SFY  B00LA6T0LS  B00LGQ6HL8  B00LI4ZZO8  \n",
       "0           -0.000457   -0.000151   -0.000270   -0.000879   -0.000817  \n",
       "1            0.000628    0.000208    0.000371    0.001210    0.001125  \n",
       "2            0.000240    0.000079    0.000142    0.000461    0.000429  \n",
       "3            0.000701    0.000232    0.000415    0.001351    0.001256  \n",
       "4           -0.000245   -0.000081   -0.000145   -0.000471   -0.000438  \n",
       "\n",
       "[5 rows x 9673 columns]"
      ]
     },
     "execution_count": 47,
     "metadata": {},
     "output_type": "execute_result"
    }
   ],
   "source": [
    "predicted_ratings.head()"
   ]
  },
  {
   "cell_type": "code",
   "execution_count": 48,
   "metadata": {},
   "outputs": [
    {
     "name": "stdout",
     "output_type": "stream",
     "text": [
      "             user_ratings  predicted_ratings\n",
      "[productID]                                 \n",
      "B002JSS2NS            0.0           0.066436\n",
      "B000065SP7            0.0           0.066217\n",
      "B000DZDPJA            0.0           0.066217\n",
      "B000K1KTNW            0.0           0.066217\n",
      "B006THMCH2            0.0           0.066217\n",
      "RMSE score: 0.0062\n"
     ]
    }
   ],
   "source": [
    "# below are the top 5 recommendation for given user.\n",
    "user_id = 12\n",
    "no_recommedations = 5\n",
    "ubCollabFilterObj.recommendationUB(user_id,predicted_ratings,no_recommedations)"
   ]
  }
 ],
 "metadata": {
  "kernelspec": {
   "display_name": "Python 3",
   "language": "python",
   "name": "python3"
  },
  "language_info": {
   "codemirror_mode": {
    "name": "ipython",
    "version": 3
   },
   "file_extension": ".py",
   "mimetype": "text/x-python",
   "name": "python",
   "nbconvert_exporter": "python",
   "pygments_lexer": "ipython3",
   "version": "3.7.3"
  }
 },
 "nbformat": 4,
 "nbformat_minor": 2
}
