{
 "cells": [
  {
   "cell_type": "code",
   "execution_count": 3,
   "metadata": {},
   "outputs": [],
   "source": [
    "#import necessary frameworks.\n",
    "import numpy as np\n",
    "import pandas as pd\n",
    "\n",
    "import matplotlib.pyplot as plt\n",
    "%matplotlib inline\n",
    "import seaborn as sns\n",
    "\n",
    "from surprise.model_selection import train_test_split\n",
    "from surprise import KNNWithMeans,KNNWithZScore, SVD, SlopeOne, SVDpp, NMF, NormalPredictor, KNNBaseline, KNNBasic,BaselineOnly, CoClustering\n",
    "from surprise import Reader,Dataset\n",
    "from surprise import accuracy\n",
    "from surprise.model_selection import cross_validate\n",
    "from surprise.model_selection import GridSearchCV\n",
    "\n",
    "from scipy.sparse import csr_matrix\n",
    "\n",
    "from sklearn.neighbors import NearestNeighbors\n",
    "import warnings\n",
    "warnings.filterwarnings(\"ignore\")\n",
    "\n",
    "from sklearn.metrics import mean_squared_error\n",
    "import math\n"
   ]
  },
  {
   "cell_type": "code",
   "execution_count": 4,
   "metadata": {},
   "outputs": [],
   "source": [
    "# Load Electronics ratings data.\n",
    "# Add column names.\n",
    "e_commerce_data = pd.read_csv('ratings_Electronics.csv')\n",
    "e_commerce_data.columns = ['userID','productID','rating','timestamp']"
   ]
  },
  {
   "cell_type": "code",
   "execution_count": 5,
   "metadata": {},
   "outputs": [
    {
     "data": {
      "text/html": [
       "<div>\n",
       "<style scoped>\n",
       "    .dataframe tbody tr th:only-of-type {\n",
       "        vertical-align: middle;\n",
       "    }\n",
       "\n",
       "    .dataframe tbody tr th {\n",
       "        vertical-align: top;\n",
       "    }\n",
       "\n",
       "    .dataframe thead th {\n",
       "        text-align: right;\n",
       "    }\n",
       "</style>\n",
       "<table border=\"1\" class=\"dataframe\">\n",
       "  <thead>\n",
       "    <tr style=\"text-align: right;\">\n",
       "      <th></th>\n",
       "      <th>userID</th>\n",
       "      <th>productID</th>\n",
       "      <th>rating</th>\n",
       "    </tr>\n",
       "  </thead>\n",
       "  <tbody>\n",
       "    <tr>\n",
       "      <th>0</th>\n",
       "      <td>A2CX7LUOHB2NDG</td>\n",
       "      <td>0321732944</td>\n",
       "      <td>5.0</td>\n",
       "    </tr>\n",
       "    <tr>\n",
       "      <th>1</th>\n",
       "      <td>A2NWSAGRHCP8N5</td>\n",
       "      <td>0439886341</td>\n",
       "      <td>1.0</td>\n",
       "    </tr>\n",
       "    <tr>\n",
       "      <th>2</th>\n",
       "      <td>A2WNBOD3WNDNKT</td>\n",
       "      <td>0439886341</td>\n",
       "      <td>3.0</td>\n",
       "    </tr>\n",
       "    <tr>\n",
       "      <th>3</th>\n",
       "      <td>A1GI0U4ZRJA8WN</td>\n",
       "      <td>0439886341</td>\n",
       "      <td>1.0</td>\n",
       "    </tr>\n",
       "    <tr>\n",
       "      <th>4</th>\n",
       "      <td>A1QGNMC6O1VW39</td>\n",
       "      <td>0511189877</td>\n",
       "      <td>5.0</td>\n",
       "    </tr>\n",
       "  </tbody>\n",
       "</table>\n",
       "</div>"
      ],
      "text/plain": [
       "           userID   productID  rating\n",
       "0  A2CX7LUOHB2NDG  0321732944     5.0\n",
       "1  A2NWSAGRHCP8N5  0439886341     1.0\n",
       "2  A2WNBOD3WNDNKT  0439886341     3.0\n",
       "3  A1GI0U4ZRJA8WN  0439886341     1.0\n",
       "4  A1QGNMC6O1VW39  0511189877     5.0"
      ]
     },
     "execution_count": 5,
     "metadata": {},
     "output_type": "execute_result"
    }
   ],
   "source": [
    "# Let's see how the data is present.\n",
    "e_commerce_data.drop(columns=['timestamp'],inplace=True)\n",
    "e_commerce_data.head()"
   ]
  },
  {
   "cell_type": "code",
   "execution_count": 6,
   "metadata": {},
   "outputs": [
    {
     "name": "stdout",
     "output_type": "stream",
     "text": [
      "Numeber of rows:7824481 and number of cols:3\n"
     ]
    }
   ],
   "source": [
    "# Let's check shape of the data\n",
    "print(f\"Numeber of rows:{e_commerce_data.shape[0]} and number of cols:{e_commerce_data.shape[1]}\")"
   ]
  },
  {
   "cell_type": "code",
   "execution_count": 7,
   "metadata": {},
   "outputs": [
    {
     "name": "stdout",
     "output_type": "stream",
     "text": [
      "<class 'pandas.core.frame.DataFrame'>\n",
      "RangeIndex: 7824481 entries, 0 to 7824480\n",
      "Data columns (total 3 columns):\n",
      "userID       object\n",
      "productID    object\n",
      "rating       float64\n",
      "dtypes: float64(1), object(2)\n",
      "memory usage: 179.1+ MB\n"
     ]
    }
   ],
   "source": [
    "e_commerce_data.info()"
   ]
  },
  {
   "cell_type": "code",
   "execution_count": 8,
   "metadata": {},
   "outputs": [
    {
     "data": {
      "text/plain": [
       "userID       False\n",
       "productID    False\n",
       "rating       False\n",
       "dtype: bool"
      ]
     },
     "execution_count": 8,
     "metadata": {},
     "output_type": "execute_result"
    }
   ],
   "source": [
    "# Let's check any NaN value present in data.\n",
    "e_commerce_data.isna().any()"
   ]
  },
  {
   "cell_type": "code",
   "execution_count": 9,
   "metadata": {},
   "outputs": [
    {
     "data": {
      "text/plain": [
       "count    7.824481e+06\n",
       "mean     4.012337e+00\n",
       "std      1.380910e+00\n",
       "min      1.000000e+00\n",
       "25%      3.000000e+00\n",
       "50%      5.000000e+00\n",
       "75%      5.000000e+00\n",
       "max      5.000000e+00\n",
       "Name: rating, dtype: float64"
      ]
     },
     "execution_count": 9,
     "metadata": {},
     "output_type": "execute_result"
    }
   ],
   "source": [
    "e_commerce_data.rating.describe().T"
   ]
  },
  {
   "cell_type": "code",
   "execution_count": 10,
   "metadata": {},
   "outputs": [
    {
     "data": {
      "text/plain": [
       "<matplotlib.axes._subplots.AxesSubplot at 0x11f257320>"
      ]
     },
     "execution_count": 10,
     "metadata": {},
     "output_type": "execute_result"
    },
    {
     "data": {
      "image/png": "[encoded data removed]",
      "text/plain": [
       "<Figure size 432x288 with 1 Axes>"
      ]
     },
     "metadata": {
      "needs_background": "light"
     },
     "output_type": "display_data"
    }
   ],
   "source": [
    "# Let's check distribution of userRatings\n",
    "sns.countplot(e_commerce_data.rating)"
   ]
  },
  {
   "cell_type": "code",
   "execution_count": 11,
   "metadata": {},
   "outputs": [
    {
     "data": {
      "text/plain": [
       "userID\n",
       "A5JLAU2ARJ0BO     520\n",
       "ADLVFFE4VBT8      501\n",
       "A3OXHLG6DIBRW8    498\n",
       "A6FIAB28IS79      431\n",
       "A680RUE1FDO8B     406\n",
       "A1ODOGXEYECQQ8    380\n",
       "A36K2N527TXXJN    314\n",
       "A2AY4YUOX2N1BQ    311\n",
       "AWPODHOB4GFWL     308\n",
       "A25C2M3QF9G7OQ    296\n",
       "ARBKYIVNYWK3C     296\n",
       "A22CW0ZHY3NJH8    292\n",
       "Name: rating, dtype: int64"
      ]
     },
     "execution_count": 11,
     "metadata": {},
     "output_type": "execute_result"
    }
   ],
   "source": [
    "e_commerce_data.groupby('userID')['rating'].count().sort_values(ascending=False)[0:12]\n",
    "# here, I'm grouped by userID and taken top 50 ratings counts."
   ]
  },
  {
   "cell_type": "code",
   "execution_count": 12,
   "metadata": {},
   "outputs": [
    {
     "name": "stdout",
     "output_type": "stream",
     "text": [
      "Unique userId ids: 4201696\n",
      "Unique productId ids: 476001\n"
     ]
    }
   ],
   "source": [
    "print(f'Unique userId ids: {e_commerce_data.userID.nunique()}')\n",
    "print(f'Unique productId ids: {e_commerce_data.productID.nunique()}')"
   ]
  },
  {
   "cell_type": "code",
   "execution_count": 13,
   "metadata": {},
   "outputs": [],
   "source": [
    "user_counts = e_commerce_data['userID'].value_counts()"
   ]
  },
  {
   "cell_type": "code",
   "execution_count": 14,
   "metadata": {},
   "outputs": [
    {
     "data": {
      "text/plain": [
       "12"
      ]
     },
     "execution_count": 14,
     "metadata": {},
     "output_type": "execute_result"
    }
   ],
   "source": [
    "len(user_counts[user_counts>=292])"
   ]
  },
  {
   "cell_type": "code",
   "execution_count": 15,
   "metadata": {},
   "outputs": [],
   "source": [
    "# I am considering 200 ratings counts based on userID\n",
    "filter_ = user_counts >= 292\n",
    "filter_ = filter_[filter_].index.tolist()"
   ]
  },
  {
   "cell_type": "code",
   "execution_count": 16,
   "metadata": {},
   "outputs": [],
   "source": [
    "# taking only those filtered information from original data.\n",
    "new_e_commerce_data = e_commerce_data[e_commerce_data['userID'].isin(filter_)]"
   ]
  },
  {
   "cell_type": "code",
   "execution_count": 17,
   "metadata": {},
   "outputs": [
    {
     "data": {
      "text/html": [
       "<div>\n",
       "<style scoped>\n",
       "    .dataframe tbody tr th:only-of-type {\n",
       "        vertical-align: middle;\n",
       "    }\n",
       "\n",
       "    .dataframe tbody tr th {\n",
       "        vertical-align: top;\n",
       "    }\n",
       "\n",
       "    .dataframe thead th {\n",
       "        text-align: right;\n",
       "    }\n",
       "</style>\n",
       "<table border=\"1\" class=\"dataframe\">\n",
       "  <thead>\n",
       "    <tr style=\"text-align: right;\">\n",
       "      <th></th>\n",
       "      <th>userID</th>\n",
       "      <th>productID</th>\n",
       "      <th>rating</th>\n",
       "    </tr>\n",
       "  </thead>\n",
       "  <tbody>\n",
       "    <tr>\n",
       "      <th>2161</th>\n",
       "      <td>A5JLAU2ARJ0BO</td>\n",
       "      <td>1400532655</td>\n",
       "      <td>1.0</td>\n",
       "    </tr>\n",
       "    <tr>\n",
       "      <th>5194</th>\n",
       "      <td>A36K2N527TXXJN</td>\n",
       "      <td>9800359788</td>\n",
       "      <td>5.0</td>\n",
       "    </tr>\n",
       "    <tr>\n",
       "      <th>5931</th>\n",
       "      <td>ADLVFFE4VBT8</td>\n",
       "      <td>9981719005</td>\n",
       "      <td>3.0</td>\n",
       "    </tr>\n",
       "    <tr>\n",
       "      <th>7747</th>\n",
       "      <td>A680RUE1FDO8B</td>\n",
       "      <td>B000001OMI</td>\n",
       "      <td>5.0</td>\n",
       "    </tr>\n",
       "    <tr>\n",
       "      <th>8731</th>\n",
       "      <td>A6FIAB28IS79</td>\n",
       "      <td>B00000J05A</td>\n",
       "      <td>3.0</td>\n",
       "    </tr>\n",
       "  </tbody>\n",
       "</table>\n",
       "</div>"
      ],
      "text/plain": [
       "              userID   productID  rating\n",
       "2161   A5JLAU2ARJ0BO  1400532655     1.0\n",
       "5194  A36K2N527TXXJN  9800359788     5.0\n",
       "5931    ADLVFFE4VBT8  9981719005     3.0\n",
       "7747   A680RUE1FDO8B  B000001OMI     5.0\n",
       "8731    A6FIAB28IS79  B00000J05A     3.0"
      ]
     },
     "execution_count": 17,
     "metadata": {},
     "output_type": "execute_result"
    }
   ],
   "source": [
    "new_e_commerce_data.head()"
   ]
  },
  {
   "cell_type": "code",
   "execution_count": 18,
   "metadata": {},
   "outputs": [
    {
     "data": {
      "text/plain": [
       "(4553, 3)"
      ]
     },
     "execution_count": 18,
     "metadata": {},
     "output_type": "execute_result"
    }
   ],
   "source": [
    "new_e_commerce_data.shape"
   ]
  },
  {
   "cell_type": "code",
   "execution_count": 19,
   "metadata": {},
   "outputs": [
    {
     "data": {
      "text/plain": [
       "12"
      ]
     },
     "execution_count": 19,
     "metadata": {},
     "output_type": "execute_result"
    }
   ],
   "source": [
    "# let's check number of unique firequently visited users\n",
    "new_e_commerce_data.userID.nunique()"
   ]
  },
  {
   "cell_type": "code",
   "execution_count": 20,
   "metadata": {},
   "outputs": [
    {
     "data": {
      "text/plain": [
       "3863"
      ]
     },
     "execution_count": 20,
     "metadata": {},
     "output_type": "execute_result"
    }
   ],
   "source": [
    "# let's check number of unique  products firequently visited by users\n",
    "new_e_commerce_data.productID.nunique()"
   ]
  },
  {
   "cell_type": "markdown",
   "metadata": {},
   "source": [
    "# Popularity based Recommender system"
   ]
  },
  {
   "cell_type": "code",
   "execution_count": 21,
   "metadata": {},
   "outputs": [],
   "source": [
    "# Define a class 'PopularityBasedRecommender'\n",
    "class PopularityBasedRecommender:\n",
    "    \n",
    "    # initialize cunstructor with data.\n",
    "    def __init__(self,data):\n",
    "        self.data = data\n",
    "    \n",
    "    # Here create top 5 popular recommendations to user.\n",
    "    def createTopRecommendations(self,no_recommedations=5):\n",
    "        data_df = self.data.groupby('productID').agg({'userID':'count'}).reset_index()\n",
    "        data_df.rename(columns={'userID':'userID_count'},inplace=True)\n",
    "        \n",
    "        data_df_sort = data_df.sort_values(['userID_count','productID'],ascending=[0,1])\n",
    "        data_df_sort['rank'] = data_df_sort['userID_count'].rank(ascending=False,method='first')\n",
    "        print('Bellow are the top {} recommendations:'.format(no_recommedations))\n",
    "        print(data_df_sort.head(no_recommedations))"
   ]
  },
  {
   "cell_type": "code",
   "execution_count": 22,
   "metadata": {},
   "outputs": [],
   "source": [
    "# Initialze class here.\n",
    "PR = PopularityBasedRecommender(new_e_commerce_data)"
   ]
  },
  {
   "cell_type": "code",
   "execution_count": 23,
   "metadata": {},
   "outputs": [
    {
     "name": "stdout",
     "output_type": "stream",
     "text": [
      "Bellow are the top 5 recommendations:\n",
      "       productID  userID_count  rank\n",
      "1033  B000JMJWV2             6   1.0\n",
      "2669  B0053R0WWG             6   2.0\n",
      "2965  B0079UAT0A             6   3.0\n",
      "2995  B007OY5V68             6   4.0\n",
      "3448  B00CZDT30S             6   5.0\n"
     ]
    }
   ],
   "source": [
    "PR.createTopRecommendations()"
   ]
  },
  {
   "cell_type": "code",
   "execution_count": 24,
   "metadata": {},
   "outputs": [
    {
     "data": {
      "text/html": [
       "<div>\n",
       "<style scoped>\n",
       "    .dataframe tbody tr th:only-of-type {\n",
       "        vertical-align: middle;\n",
       "    }\n",
       "\n",
       "    .dataframe tbody tr th {\n",
       "        vertical-align: top;\n",
       "    }\n",
       "\n",
       "    .dataframe thead th {\n",
       "        text-align: right;\n",
       "    }\n",
       "</style>\n",
       "<table border=\"1\" class=\"dataframe\">\n",
       "  <thead>\n",
       "    <tr style=\"text-align: right;\">\n",
       "      <th></th>\n",
       "      <th>productID</th>\n",
       "      <th>rating</th>\n",
       "    </tr>\n",
       "  </thead>\n",
       "  <tbody>\n",
       "    <tr>\n",
       "      <th>0</th>\n",
       "      <td>B0053R0WWG</td>\n",
       "      <td>6</td>\n",
       "    </tr>\n",
       "    <tr>\n",
       "      <th>1</th>\n",
       "      <td>B007OY5V68</td>\n",
       "      <td>6</td>\n",
       "    </tr>\n",
       "    <tr>\n",
       "      <th>2</th>\n",
       "      <td>B000JMJWV2</td>\n",
       "      <td>6</td>\n",
       "    </tr>\n",
       "    <tr>\n",
       "      <th>3</th>\n",
       "      <td>B0079UAT0A</td>\n",
       "      <td>6</td>\n",
       "    </tr>\n",
       "    <tr>\n",
       "      <th>4</th>\n",
       "      <td>B00CZDT30S</td>\n",
       "      <td>6</td>\n",
       "    </tr>\n",
       "  </tbody>\n",
       "</table>\n",
       "</div>"
      ],
      "text/plain": [
       "    productID  rating\n",
       "0  B0053R0WWG       6\n",
       "1  B007OY5V68       6\n",
       "2  B000JMJWV2       6\n",
       "3  B0079UAT0A       6\n",
       "4  B00CZDT30S       6"
      ]
     },
     "execution_count": 24,
     "metadata": {},
     "output_type": "execute_result"
    }
   ],
   "source": [
    "# Checking \n",
    "popular_items_df = new_e_commerce_data.groupby(['productID'])['rating'].count().sort_values(ascending=False).reset_index()\n",
    "popular_items_df.head(5)\n"
   ]
  },
  {
   "cell_type": "markdown",
   "metadata": {},
   "source": [
    "# Collabrative Filtering\n",
    "### using surprise.BaselineOnly()"
   ]
  },
  {
   "cell_type": "code",
   "execution_count": 25,
   "metadata": {},
   "outputs": [
    {
     "data": {
      "text/plain": [
       "(1.0, 5.0)"
      ]
     },
     "execution_count": 25,
     "metadata": {},
     "output_type": "execute_result"
    }
   ],
   "source": [
    "# check upper and lower ratings from data.\n",
    "lower_rating = new_e_commerce_data.rating.min()\n",
    "upper_rating = new_e_commerce_data.rating.max()\n",
    "lower_rating,upper_rating"
   ]
  },
  {
   "cell_type": "code",
   "execution_count": 26,
   "metadata": {},
   "outputs": [
    {
     "name": "stdout",
     "output_type": "stream",
     "text": [
      "              userID   productID  rating\n",
      "2161   A5JLAU2ARJ0BO  1400532655     1.0\n",
      "5194  A36K2N527TXXJN  9800359788     5.0\n",
      "5931    ADLVFFE4VBT8  9981719005     3.0\n",
      "7747   A680RUE1FDO8B  B000001OMI     5.0\n",
      "8731    A6FIAB28IS79  B00000J05A     3.0\n"
     ]
    }
   ],
   "source": [
    "# Convert the dataframe into dataset, shwich supports the surprise lib models.\n",
    "# First define a reader, whcih intakes lower and upper ratings.\n",
    "reader = Reader(rating_scale=(lower_rating, upper_rating))\n",
    "df = new_e_commerce_data[['userID', 'productID', 'rating']]\n",
    "print(df.head())\n",
    "# Bys using load_from_df load the original data as a dataset with the help of reader.\n",
    "data_df = Dataset.load_from_df(df, reader)"
   ]
  },
  {
   "cell_type": "code",
   "execution_count": 27,
   "metadata": {},
   "outputs": [],
   "source": [
    "# Devide the dataset into train and test.\n",
    "train_data,test_data = train_test_split(data_df,test_size=0.15,random_state=42)"
   ]
  },
  {
   "cell_type": "code",
   "execution_count": 28,
   "metadata": {},
   "outputs": [
    {
     "data": {
      "text/plain": [
       "683"
      ]
     },
     "execution_count": 28,
     "metadata": {},
     "output_type": "execute_result"
    }
   ],
   "source": [
    "len(test_data)"
   ]
  },
  {
   "cell_type": "code",
   "execution_count": 29,
   "metadata": {},
   "outputs": [],
   "source": [
    "# the bellow code is used to check which model peroformase good based rmse using cross validate method,"
   ]
  },
  {
   "cell_type": "code",
   "execution_count": 30,
   "metadata": {},
   "outputs": [
    {
     "name": "stdout",
     "output_type": "stream",
     "text": [
      "Estimating biases using als...\n",
      "Computing the msd similarity matrix...\n",
      "Done computing similarity matrix.\n",
      "Estimating biases using als...\n",
      "Computing the msd similarity matrix...\n",
      "Done computing similarity matrix.\n",
      "Estimating biases using als...\n",
      "Computing the msd similarity matrix...\n",
      "Done computing similarity matrix.\n",
      "Computing the msd similarity matrix...\n",
      "Done computing similarity matrix.\n",
      "Computing the msd similarity matrix...\n",
      "Done computing similarity matrix.\n",
      "Computing the msd similarity matrix...\n",
      "Done computing similarity matrix.\n",
      "Computing the msd similarity matrix...\n",
      "Done computing similarity matrix.\n",
      "Computing the msd similarity matrix...\n",
      "Done computing similarity matrix.\n",
      "Computing the msd similarity matrix...\n",
      "Done computing similarity matrix.\n",
      "Computing the msd similarity matrix...\n",
      "Done computing similarity matrix.\n",
      "Computing the msd similarity matrix...\n",
      "Done computing similarity matrix.\n",
      "Computing the msd similarity matrix...\n",
      "Done computing similarity matrix.\n",
      "Estimating biases using als...\n",
      "Estimating biases using als...\n",
      "Estimating biases using als...\n"
     ]
    },
    {
     "data": {
      "text/html": [
       "<div>\n",
       "<style scoped>\n",
       "    .dataframe tbody tr th:only-of-type {\n",
       "        vertical-align: middle;\n",
       "    }\n",
       "\n",
       "    .dataframe tbody tr th {\n",
       "        vertical-align: top;\n",
       "    }\n",
       "\n",
       "    .dataframe thead th {\n",
       "        text-align: right;\n",
       "    }\n",
       "</style>\n",
       "<table border=\"1\" class=\"dataframe\">\n",
       "  <thead>\n",
       "    <tr style=\"text-align: right;\">\n",
       "      <th></th>\n",
       "      <th>test_rmse</th>\n",
       "      <th>fit_time</th>\n",
       "      <th>test_time</th>\n",
       "    </tr>\n",
       "    <tr>\n",
       "      <th>Algorithm</th>\n",
       "      <th></th>\n",
       "      <th></th>\n",
       "      <th></th>\n",
       "    </tr>\n",
       "  </thead>\n",
       "  <tbody>\n",
       "    <tr>\n",
       "      <th>BaselineOnly</th>\n",
       "      <td>0.935059</td>\n",
       "      <td>0.011111</td>\n",
       "      <td>0.011577</td>\n",
       "    </tr>\n",
       "    <tr>\n",
       "      <th>SVD</th>\n",
       "      <td>0.938553</td>\n",
       "      <td>0.267802</td>\n",
       "      <td>0.014670</td>\n",
       "    </tr>\n",
       "    <tr>\n",
       "      <th>SVDpp</th>\n",
       "      <td>0.942321</td>\n",
       "      <td>15.606707</td>\n",
       "      <td>0.177145</td>\n",
       "    </tr>\n",
       "    <tr>\n",
       "      <th>KNNBaseline</th>\n",
       "      <td>0.957623</td>\n",
       "      <td>0.013226</td>\n",
       "      <td>0.018404</td>\n",
       "    </tr>\n",
       "    <tr>\n",
       "      <th>CoClustering</th>\n",
       "      <td>0.985587</td>\n",
       "      <td>0.562873</td>\n",
       "      <td>0.012057</td>\n",
       "    </tr>\n",
       "    <tr>\n",
       "      <th>KNNWithZScore</th>\n",
       "      <td>0.985653</td>\n",
       "      <td>0.003507</td>\n",
       "      <td>0.017803</td>\n",
       "    </tr>\n",
       "    <tr>\n",
       "      <th>KNNBasic</th>\n",
       "      <td>0.986917</td>\n",
       "      <td>0.000971</td>\n",
       "      <td>0.016070</td>\n",
       "    </tr>\n",
       "    <tr>\n",
       "      <th>SlopeOne</th>\n",
       "      <td>0.987777</td>\n",
       "      <td>0.254954</td>\n",
       "      <td>0.085376</td>\n",
       "    </tr>\n",
       "    <tr>\n",
       "      <th>KNNWithMeans</th>\n",
       "      <td>0.989137</td>\n",
       "      <td>0.001881</td>\n",
       "      <td>0.017915</td>\n",
       "    </tr>\n",
       "    <tr>\n",
       "      <th>NMF</th>\n",
       "      <td>1.031335</td>\n",
       "      <td>0.466471</td>\n",
       "      <td>0.032641</td>\n",
       "    </tr>\n",
       "    <tr>\n",
       "      <th>NormalPredictor</th>\n",
       "      <td>1.226683</td>\n",
       "      <td>0.005476</td>\n",
       "      <td>0.021019</td>\n",
       "    </tr>\n",
       "  </tbody>\n",
       "</table>\n",
       "</div>"
      ],
      "text/plain": [
       "                 test_rmse   fit_time  test_time\n",
       "Algorithm                                       \n",
       "BaselineOnly      0.935059   0.011111   0.011577\n",
       "SVD               0.938553   0.267802   0.014670\n",
       "SVDpp             0.942321  15.606707   0.177145\n",
       "KNNBaseline       0.957623   0.013226   0.018404\n",
       "CoClustering      0.985587   0.562873   0.012057\n",
       "KNNWithZScore     0.985653   0.003507   0.017803\n",
       "KNNBasic          0.986917   0.000971   0.016070\n",
       "SlopeOne          0.987777   0.254954   0.085376\n",
       "KNNWithMeans      0.989137   0.001881   0.017915\n",
       "NMF               1.031335   0.466471   0.032641\n",
       "NormalPredictor   1.226683   0.005476   0.021019"
      ]
     },
     "execution_count": 30,
     "metadata": {},
     "output_type": "execute_result"
    }
   ],
   "source": [
    "benchmark = []\n",
    "# Iterate over all algorithms\n",
    "for algorithm in [SVD(), SVDpp(), SlopeOne(), NMF(), NormalPredictor(), KNNBaseline(), KNNBasic(), KNNWithMeans(), KNNWithZScore(), BaselineOnly(), CoClustering()]:\n",
    "    # Perform cross validation\n",
    "    results = cross_validate(algorithm, data_df, measures=['RMSE'], cv=3, verbose=False)\n",
    "    \n",
    "    # Get results & append algorithm name\n",
    "    tmp = pd.DataFrame.from_dict(results).mean(axis=0)\n",
    "    tmp = tmp.append(pd.Series([str(algorithm).split(' ')[0].split('.')[-1]], index=['Algorithm']))\n",
    "    benchmark.append(tmp)\n",
    "    \n",
    "pd.DataFrame(benchmark).set_index('Algorithm').sort_values('test_rmse')  "
   ]
  },
  {
   "cell_type": "code",
   "execution_count": 31,
   "metadata": {},
   "outputs": [],
   "source": [
    "# As we can see, in the above dataframe.\n",
    "# Whcih is sorted based on 'rmse' values.\n",
    "# bases on this rmse value, I can say 'BaselineOnly' performance is good.\n",
    "# And, I go head and build model."
   ]
  },
  {
   "cell_type": "code",
   "execution_count": 32,
   "metadata": {},
   "outputs": [
    {
     "name": "stdout",
     "output_type": "stream",
     "text": [
      "Estimating biases using als...\n"
     ]
    },
    {
     "data": {
      "text/plain": [
       "<surprise.prediction_algorithms.baseline_only.BaselineOnly at 0x10eac6ac8>"
      ]
     },
     "execution_count": 32,
     "metadata": {},
     "output_type": "execute_result"
    }
   ],
   "source": [
    "model = BaselineOnly()\n",
    "model.fit(train_data)"
   ]
  },
  {
   "cell_type": "code",
   "execution_count": 33,
   "metadata": {},
   "outputs": [
    {
     "data": {
      "text/plain": [
       "{'test_rmse': array([0.9537737 , 0.90134815, 0.95046182]),\n",
       " 'train_rmse': array([0.83969722, 0.86369646, 0.84064437]),\n",
       " 'fit_time': (0.015542030334472656,\n",
       "  0.009999752044677734,\n",
       "  0.015397787094116211),\n",
       " 'test_time': (0.013255119323730469,\n",
       "  0.011644840240478516,\n",
       "  0.01740574836730957)}"
      ]
     },
     "execution_count": 33,
     "metadata": {},
     "output_type": "execute_result"
    }
   ],
   "source": [
    "cross_validate(model, data_df,\n",
    "               measures=['rmse'],\n",
    "               cv=3, verbose=False,\n",
    "               n_jobs=-1,\n",
    "               return_train_measures=True)"
   ]
  },
  {
   "cell_type": "code",
   "execution_count": 34,
   "metadata": {},
   "outputs": [],
   "source": [
    "test_pred = model.test(test_data)"
   ]
  },
  {
   "cell_type": "code",
   "execution_count": 35,
   "metadata": {},
   "outputs": [
    {
     "data": {
      "text/plain": [
       "[Prediction(uid='A5JLAU2ARJ0BO', iid='B0002ICEF4', r_ui=5.0, est=3.820989775617595, details={'was_impossible': False}),\n",
       " Prediction(uid='A2AY4YUOX2N1BQ', iid='B004UT0T5S', r_ui=5.0, est=4.526997200914659, details={'was_impossible': False}),\n",
       " Prediction(uid='A36K2N527TXXJN', iid='B00DK9N154', r_ui=5.0, est=4.506051691145646, details={'was_impossible': False}),\n",
       " Prediction(uid='A25C2M3QF9G7OQ', iid='B006OM75I8', r_ui=5.0, est=4.578641147650728, details={'was_impossible': False}),\n",
       " Prediction(uid='AWPODHOB4GFWL', iid='B0052OZZYK', r_ui=5.0, est=4.426215755345932, details={'was_impossible': False}),\n",
       " Prediction(uid='ADLVFFE4VBT8', iid='B007JIBAZA', r_ui=2.0, est=4.307059762299322, details={'was_impossible': False}),\n",
       " Prediction(uid='A2AY4YUOX2N1BQ', iid='B004K1FTII', r_ui=4.0, est=4.526997200914659, details={'was_impossible': False}),\n",
       " Prediction(uid='A25C2M3QF9G7OQ', iid='B00HLAGR0E', r_ui=5.0, est=4.578641147650728, details={'was_impossible': False}),\n",
       " Prediction(uid='A1ODOGXEYECQQ8', iid='B003CT5KMO', r_ui=5.0, est=4.284653903083436, details={'was_impossible': False}),\n",
       " Prediction(uid='A1ODOGXEYECQQ8', iid='B001IWOBA4', r_ui=4.0, est=4.337882581031655, details={'was_impossible': False})]"
      ]
     },
     "execution_count": 35,
     "metadata": {},
     "output_type": "execute_result"
    }
   ],
   "source": [
    "test_pred[0:10]"
   ]
  },
  {
   "cell_type": "code",
   "execution_count": 36,
   "metadata": {},
   "outputs": [
    {
     "name": "stdout",
     "output_type": "stream",
     "text": [
      "RMSE: 0.9634\n"
     ]
    },
    {
     "data": {
      "text/plain": [
       "0.9633671149116884"
      ]
     },
     "execution_count": 36,
     "metadata": {},
     "output_type": "execute_result"
    }
   ],
   "source": [
    "accuracy.rmse(test_pred)"
   ]
  },
  {
   "cell_type": "code",
   "execution_count": 37,
   "metadata": {},
   "outputs": [
    {
     "data": {
      "text/plain": [
       "Prediction(uid='A23GFTVIETX7DS', iid='B0079TOEQQ', r_ui=None, est=4.4378601151587285, details={'was_impossible': False})"
      ]
     },
     "execution_count": 37,
     "metadata": {},
     "output_type": "execute_result"
    }
   ],
   "source": [
    "model.predict('A23GFTVIETX7DS','B0079TOEQQ')"
   ]
  },
  {
   "cell_type": "markdown",
   "metadata": {},
   "source": [
    "### using scipy.sparse.linalg.svds()"
   ]
  },
  {
   "cell_type": "markdown",
   "metadata": {},
   "source": [
    "#### Preprocessing data"
   ]
  },
  {
   "cell_type": "code",
   "execution_count": 38,
   "metadata": {},
   "outputs": [],
   "source": [
    "# Prepare pivot dataframe from 'new_e_commerce_data'.\n",
    "# 'new_e_commerce_data' is a dataframe, where it consists only users who have more than 290 counts.\n",
    "final_rating_matrix = new_e_commerce_data.pivot(index='userID',columns='productID',values='rating').fillna(0)"
   ]
  },
  {
   "cell_type": "code",
   "execution_count": 39,
   "metadata": {},
   "outputs": [
    {
     "data": {
      "text/html": [
       "<div>\n",
       "<style scoped>\n",
       "    .dataframe tbody tr th:only-of-type {\n",
       "        vertical-align: middle;\n",
       "    }\n",
       "\n",
       "    .dataframe tbody tr th {\n",
       "        vertical-align: top;\n",
       "    }\n",
       "\n",
       "    .dataframe thead th {\n",
       "        text-align: right;\n",
       "    }\n",
       "</style>\n",
       "<table border=\"1\" class=\"dataframe\">\n",
       "  <thead>\n",
       "    <tr style=\"text-align: right;\">\n",
       "      <th>productID</th>\n",
       "      <th>1400532655</th>\n",
       "      <th>9800359788</th>\n",
       "      <th>9981719005</th>\n",
       "      <th>B000001OMI</th>\n",
       "      <th>B00000J05A</th>\n",
       "      <th>B00000J1QS</th>\n",
       "      <th>B00000J1UQ</th>\n",
       "      <th>B00000J4CY</th>\n",
       "      <th>B00000JGNB</th>\n",
       "      <th>B00000JHX1</th>\n",
       "      <th>...</th>\n",
       "      <th>B00KNEBRT6</th>\n",
       "      <th>B00KVNY2KA</th>\n",
       "      <th>B00KWMNDDM</th>\n",
       "      <th>B00KYMCJF8</th>\n",
       "      <th>B00L1I80K2</th>\n",
       "      <th>B00L21HC7A</th>\n",
       "      <th>B00L2442H0</th>\n",
       "      <th>B00L26YDA4</th>\n",
       "      <th>B00L3YHF6O</th>\n",
       "      <th>B00LGQ6HL8</th>\n",
       "    </tr>\n",
       "    <tr>\n",
       "      <th>userID</th>\n",
       "      <th></th>\n",
       "      <th></th>\n",
       "      <th></th>\n",
       "      <th></th>\n",
       "      <th></th>\n",
       "      <th></th>\n",
       "      <th></th>\n",
       "      <th></th>\n",
       "      <th></th>\n",
       "      <th></th>\n",
       "      <th></th>\n",
       "      <th></th>\n",
       "      <th></th>\n",
       "      <th></th>\n",
       "      <th></th>\n",
       "      <th></th>\n",
       "      <th></th>\n",
       "      <th></th>\n",
       "      <th></th>\n",
       "      <th></th>\n",
       "      <th></th>\n",
       "    </tr>\n",
       "  </thead>\n",
       "  <tbody>\n",
       "    <tr>\n",
       "      <th>A1ODOGXEYECQQ8</th>\n",
       "      <td>0.0</td>\n",
       "      <td>0.0</td>\n",
       "      <td>0.0</td>\n",
       "      <td>0.0</td>\n",
       "      <td>0.0</td>\n",
       "      <td>0.0</td>\n",
       "      <td>0.0</td>\n",
       "      <td>0.0</td>\n",
       "      <td>0.0</td>\n",
       "      <td>0.0</td>\n",
       "      <td>...</td>\n",
       "      <td>5.0</td>\n",
       "      <td>0.0</td>\n",
       "      <td>5.0</td>\n",
       "      <td>5.0</td>\n",
       "      <td>0.0</td>\n",
       "      <td>5.0</td>\n",
       "      <td>0.0</td>\n",
       "      <td>3.0</td>\n",
       "      <td>0.0</td>\n",
       "      <td>0.0</td>\n",
       "    </tr>\n",
       "    <tr>\n",
       "      <th>A22CW0ZHY3NJH8</th>\n",
       "      <td>0.0</td>\n",
       "      <td>0.0</td>\n",
       "      <td>0.0</td>\n",
       "      <td>0.0</td>\n",
       "      <td>0.0</td>\n",
       "      <td>0.0</td>\n",
       "      <td>0.0</td>\n",
       "      <td>0.0</td>\n",
       "      <td>0.0</td>\n",
       "      <td>0.0</td>\n",
       "      <td>...</td>\n",
       "      <td>0.0</td>\n",
       "      <td>4.0</td>\n",
       "      <td>0.0</td>\n",
       "      <td>0.0</td>\n",
       "      <td>5.0</td>\n",
       "      <td>0.0</td>\n",
       "      <td>5.0</td>\n",
       "      <td>0.0</td>\n",
       "      <td>0.0</td>\n",
       "      <td>0.0</td>\n",
       "    </tr>\n",
       "    <tr>\n",
       "      <th>A25C2M3QF9G7OQ</th>\n",
       "      <td>0.0</td>\n",
       "      <td>0.0</td>\n",
       "      <td>0.0</td>\n",
       "      <td>0.0</td>\n",
       "      <td>0.0</td>\n",
       "      <td>0.0</td>\n",
       "      <td>0.0</td>\n",
       "      <td>0.0</td>\n",
       "      <td>0.0</td>\n",
       "      <td>0.0</td>\n",
       "      <td>...</td>\n",
       "      <td>0.0</td>\n",
       "      <td>0.0</td>\n",
       "      <td>0.0</td>\n",
       "      <td>0.0</td>\n",
       "      <td>0.0</td>\n",
       "      <td>0.0</td>\n",
       "      <td>0.0</td>\n",
       "      <td>0.0</td>\n",
       "      <td>0.0</td>\n",
       "      <td>5.0</td>\n",
       "    </tr>\n",
       "    <tr>\n",
       "      <th>A2AY4YUOX2N1BQ</th>\n",
       "      <td>0.0</td>\n",
       "      <td>0.0</td>\n",
       "      <td>0.0</td>\n",
       "      <td>0.0</td>\n",
       "      <td>0.0</td>\n",
       "      <td>0.0</td>\n",
       "      <td>0.0</td>\n",
       "      <td>0.0</td>\n",
       "      <td>0.0</td>\n",
       "      <td>0.0</td>\n",
       "      <td>...</td>\n",
       "      <td>0.0</td>\n",
       "      <td>0.0</td>\n",
       "      <td>0.0</td>\n",
       "      <td>0.0</td>\n",
       "      <td>0.0</td>\n",
       "      <td>0.0</td>\n",
       "      <td>0.0</td>\n",
       "      <td>0.0</td>\n",
       "      <td>0.0</td>\n",
       "      <td>0.0</td>\n",
       "    </tr>\n",
       "    <tr>\n",
       "      <th>A36K2N527TXXJN</th>\n",
       "      <td>0.0</td>\n",
       "      <td>5.0</td>\n",
       "      <td>0.0</td>\n",
       "      <td>0.0</td>\n",
       "      <td>0.0</td>\n",
       "      <td>0.0</td>\n",
       "      <td>0.0</td>\n",
       "      <td>0.0</td>\n",
       "      <td>0.0</td>\n",
       "      <td>0.0</td>\n",
       "      <td>...</td>\n",
       "      <td>0.0</td>\n",
       "      <td>5.0</td>\n",
       "      <td>0.0</td>\n",
       "      <td>0.0</td>\n",
       "      <td>0.0</td>\n",
       "      <td>0.0</td>\n",
       "      <td>0.0</td>\n",
       "      <td>0.0</td>\n",
       "      <td>0.0</td>\n",
       "      <td>0.0</td>\n",
       "    </tr>\n",
       "  </tbody>\n",
       "</table>\n",
       "<p>5 rows × 3863 columns</p>\n",
       "</div>"
      ],
      "text/plain": [
       "productID       1400532655  9800359788  9981719005  B000001OMI  B00000J05A  \\\n",
       "userID                                                                       \n",
       "A1ODOGXEYECQQ8         0.0         0.0         0.0         0.0         0.0   \n",
       "A22CW0ZHY3NJH8         0.0         0.0         0.0         0.0         0.0   \n",
       "A25C2M3QF9G7OQ         0.0         0.0         0.0         0.0         0.0   \n",
       "A2AY4YUOX2N1BQ         0.0         0.0         0.0         0.0         0.0   \n",
       "A36K2N527TXXJN         0.0         5.0         0.0         0.0         0.0   \n",
       "\n",
       "productID       B00000J1QS  B00000J1UQ  B00000J4CY  B00000JGNB  B00000JHX1  \\\n",
       "userID                                                                       \n",
       "A1ODOGXEYECQQ8         0.0         0.0         0.0         0.0         0.0   \n",
       "A22CW0ZHY3NJH8         0.0         0.0         0.0         0.0         0.0   \n",
       "A25C2M3QF9G7OQ         0.0         0.0         0.0         0.0         0.0   \n",
       "A2AY4YUOX2N1BQ         0.0         0.0         0.0         0.0         0.0   \n",
       "A36K2N527TXXJN         0.0         0.0         0.0         0.0         0.0   \n",
       "\n",
       "productID       ...  B00KNEBRT6  B00KVNY2KA  B00KWMNDDM  B00KYMCJF8  \\\n",
       "userID          ...                                                   \n",
       "A1ODOGXEYECQQ8  ...         5.0         0.0         5.0         5.0   \n",
       "A22CW0ZHY3NJH8  ...         0.0         4.0         0.0         0.0   \n",
       "A25C2M3QF9G7OQ  ...         0.0         0.0         0.0         0.0   \n",
       "A2AY4YUOX2N1BQ  ...         0.0         0.0         0.0         0.0   \n",
       "A36K2N527TXXJN  ...         0.0         5.0         0.0         0.0   \n",
       "\n",
       "productID       B00L1I80K2  B00L21HC7A  B00L2442H0  B00L26YDA4  B00L3YHF6O  \\\n",
       "userID                                                                       \n",
       "A1ODOGXEYECQQ8         0.0         5.0         0.0         3.0         0.0   \n",
       "A22CW0ZHY3NJH8         5.0         0.0         5.0         0.0         0.0   \n",
       "A25C2M3QF9G7OQ         0.0         0.0         0.0         0.0         0.0   \n",
       "A2AY4YUOX2N1BQ         0.0         0.0         0.0         0.0         0.0   \n",
       "A36K2N527TXXJN         0.0         0.0         0.0         0.0         0.0   \n",
       "\n",
       "productID       B00LGQ6HL8  \n",
       "userID                      \n",
       "A1ODOGXEYECQQ8         0.0  \n",
       "A22CW0ZHY3NJH8         0.0  \n",
       "A25C2M3QF9G7OQ         5.0  \n",
       "A2AY4YUOX2N1BQ         0.0  \n",
       "A36K2N527TXXJN         0.0  \n",
       "\n",
       "[5 rows x 3863 columns]"
      ]
     },
     "execution_count": 39,
     "metadata": {},
     "output_type": "execute_result"
    }
   ],
   "source": [
    "# pivot dataframe\n",
    "final_rating_matrix.head()"
   ]
  },
  {
   "cell_type": "code",
   "execution_count": 40,
   "metadata": {},
   "outputs": [
    {
     "data": {
      "text/plain": [
       "(12, 3863)"
      ]
     },
     "execution_count": 40,
     "metadata": {},
     "output_type": "execute_result"
    }
   ],
   "source": [
    "final_rating_matrix.shape"
   ]
  },
  {
   "cell_type": "code",
   "execution_count": 41,
   "metadata": {},
   "outputs": [],
   "source": [
    "final_df = final_rating_matrix.copy(True)"
   ]
  },
  {
   "cell_type": "code",
   "execution_count": 42,
   "metadata": {},
   "outputs": [],
   "source": [
    "# Replace index column from 'userID' to 'user_index' numerical type\n",
    "final_df['user_index'] = np.arange(0,final_df.shape[0],1)\n",
    "final_df.set_index(['user_index'],inplace=True)"
   ]
  },
  {
   "cell_type": "code",
   "execution_count": 43,
   "metadata": {},
   "outputs": [
    {
     "data": {
      "text/html": [
       "<div>\n",
       "<style scoped>\n",
       "    .dataframe tbody tr th:only-of-type {\n",
       "        vertical-align: middle;\n",
       "    }\n",
       "\n",
       "    .dataframe tbody tr th {\n",
       "        vertical-align: top;\n",
       "    }\n",
       "\n",
       "    .dataframe thead th {\n",
       "        text-align: right;\n",
       "    }\n",
       "</style>\n",
       "<table border=\"1\" class=\"dataframe\">\n",
       "  <thead>\n",
       "    <tr style=\"text-align: right;\">\n",
       "      <th>productID</th>\n",
       "      <th>1400532655</th>\n",
       "      <th>9800359788</th>\n",
       "      <th>9981719005</th>\n",
       "      <th>B000001OMI</th>\n",
       "      <th>B00000J05A</th>\n",
       "      <th>B00000J1QS</th>\n",
       "      <th>B00000J1UQ</th>\n",
       "      <th>B00000J4CY</th>\n",
       "      <th>B00000JGNB</th>\n",
       "      <th>B00000JHX1</th>\n",
       "      <th>...</th>\n",
       "      <th>B00KNEBRT6</th>\n",
       "      <th>B00KVNY2KA</th>\n",
       "      <th>B00KWMNDDM</th>\n",
       "      <th>B00KYMCJF8</th>\n",
       "      <th>B00L1I80K2</th>\n",
       "      <th>B00L21HC7A</th>\n",
       "      <th>B00L2442H0</th>\n",
       "      <th>B00L26YDA4</th>\n",
       "      <th>B00L3YHF6O</th>\n",
       "      <th>B00LGQ6HL8</th>\n",
       "    </tr>\n",
       "    <tr>\n",
       "      <th>user_index</th>\n",
       "      <th></th>\n",
       "      <th></th>\n",
       "      <th></th>\n",
       "      <th></th>\n",
       "      <th></th>\n",
       "      <th></th>\n",
       "      <th></th>\n",
       "      <th></th>\n",
       "      <th></th>\n",
       "      <th></th>\n",
       "      <th></th>\n",
       "      <th></th>\n",
       "      <th></th>\n",
       "      <th></th>\n",
       "      <th></th>\n",
       "      <th></th>\n",
       "      <th></th>\n",
       "      <th></th>\n",
       "      <th></th>\n",
       "      <th></th>\n",
       "      <th></th>\n",
       "    </tr>\n",
       "  </thead>\n",
       "  <tbody>\n",
       "    <tr>\n",
       "      <th>0</th>\n",
       "      <td>0.0</td>\n",
       "      <td>0.0</td>\n",
       "      <td>0.0</td>\n",
       "      <td>0.0</td>\n",
       "      <td>0.0</td>\n",
       "      <td>0.0</td>\n",
       "      <td>0.0</td>\n",
       "      <td>0.0</td>\n",
       "      <td>0.0</td>\n",
       "      <td>0.0</td>\n",
       "      <td>...</td>\n",
       "      <td>5.0</td>\n",
       "      <td>0.0</td>\n",
       "      <td>5.0</td>\n",
       "      <td>5.0</td>\n",
       "      <td>0.0</td>\n",
       "      <td>5.0</td>\n",
       "      <td>0.0</td>\n",
       "      <td>3.0</td>\n",
       "      <td>0.0</td>\n",
       "      <td>0.0</td>\n",
       "    </tr>\n",
       "    <tr>\n",
       "      <th>1</th>\n",
       "      <td>0.0</td>\n",
       "      <td>0.0</td>\n",
       "      <td>0.0</td>\n",
       "      <td>0.0</td>\n",
       "      <td>0.0</td>\n",
       "      <td>0.0</td>\n",
       "      <td>0.0</td>\n",
       "      <td>0.0</td>\n",
       "      <td>0.0</td>\n",
       "      <td>0.0</td>\n",
       "      <td>...</td>\n",
       "      <td>0.0</td>\n",
       "      <td>4.0</td>\n",
       "      <td>0.0</td>\n",
       "      <td>0.0</td>\n",
       "      <td>5.0</td>\n",
       "      <td>0.0</td>\n",
       "      <td>5.0</td>\n",
       "      <td>0.0</td>\n",
       "      <td>0.0</td>\n",
       "      <td>0.0</td>\n",
       "    </tr>\n",
       "    <tr>\n",
       "      <th>2</th>\n",
       "      <td>0.0</td>\n",
       "      <td>0.0</td>\n",
       "      <td>0.0</td>\n",
       "      <td>0.0</td>\n",
       "      <td>0.0</td>\n",
       "      <td>0.0</td>\n",
       "      <td>0.0</td>\n",
       "      <td>0.0</td>\n",
       "      <td>0.0</td>\n",
       "      <td>0.0</td>\n",
       "      <td>...</td>\n",
       "      <td>0.0</td>\n",
       "      <td>0.0</td>\n",
       "      <td>0.0</td>\n",
       "      <td>0.0</td>\n",
       "      <td>0.0</td>\n",
       "      <td>0.0</td>\n",
       "      <td>0.0</td>\n",
       "      <td>0.0</td>\n",
       "      <td>0.0</td>\n",
       "      <td>5.0</td>\n",
       "    </tr>\n",
       "    <tr>\n",
       "      <th>3</th>\n",
       "      <td>0.0</td>\n",
       "      <td>0.0</td>\n",
       "      <td>0.0</td>\n",
       "      <td>0.0</td>\n",
       "      <td>0.0</td>\n",
       "      <td>0.0</td>\n",
       "      <td>0.0</td>\n",
       "      <td>0.0</td>\n",
       "      <td>0.0</td>\n",
       "      <td>0.0</td>\n",
       "      <td>...</td>\n",
       "      <td>0.0</td>\n",
       "      <td>0.0</td>\n",
       "      <td>0.0</td>\n",
       "      <td>0.0</td>\n",
       "      <td>0.0</td>\n",
       "      <td>0.0</td>\n",
       "      <td>0.0</td>\n",
       "      <td>0.0</td>\n",
       "      <td>0.0</td>\n",
       "      <td>0.0</td>\n",
       "    </tr>\n",
       "    <tr>\n",
       "      <th>4</th>\n",
       "      <td>0.0</td>\n",
       "      <td>5.0</td>\n",
       "      <td>0.0</td>\n",
       "      <td>0.0</td>\n",
       "      <td>0.0</td>\n",
       "      <td>0.0</td>\n",
       "      <td>0.0</td>\n",
       "      <td>0.0</td>\n",
       "      <td>0.0</td>\n",
       "      <td>0.0</td>\n",
       "      <td>...</td>\n",
       "      <td>0.0</td>\n",
       "      <td>5.0</td>\n",
       "      <td>0.0</td>\n",
       "      <td>0.0</td>\n",
       "      <td>0.0</td>\n",
       "      <td>0.0</td>\n",
       "      <td>0.0</td>\n",
       "      <td>0.0</td>\n",
       "      <td>0.0</td>\n",
       "      <td>0.0</td>\n",
       "    </tr>\n",
       "  </tbody>\n",
       "</table>\n",
       "<p>5 rows × 3863 columns</p>\n",
       "</div>"
      ],
      "text/plain": [
       "productID   1400532655  9800359788  9981719005  B000001OMI  B00000J05A  \\\n",
       "user_index                                                               \n",
       "0                  0.0         0.0         0.0         0.0         0.0   \n",
       "1                  0.0         0.0         0.0         0.0         0.0   \n",
       "2                  0.0         0.0         0.0         0.0         0.0   \n",
       "3                  0.0         0.0         0.0         0.0         0.0   \n",
       "4                  0.0         5.0         0.0         0.0         0.0   \n",
       "\n",
       "productID   B00000J1QS  B00000J1UQ  B00000J4CY  B00000JGNB  B00000JHX1  ...  \\\n",
       "user_index                                                              ...   \n",
       "0                  0.0         0.0         0.0         0.0         0.0  ...   \n",
       "1                  0.0         0.0         0.0         0.0         0.0  ...   \n",
       "2                  0.0         0.0         0.0         0.0         0.0  ...   \n",
       "3                  0.0         0.0         0.0         0.0         0.0  ...   \n",
       "4                  0.0         0.0         0.0         0.0         0.0  ...   \n",
       "\n",
       "productID   B00KNEBRT6  B00KVNY2KA  B00KWMNDDM  B00KYMCJF8  B00L1I80K2  \\\n",
       "user_index                                                               \n",
       "0                  5.0         0.0         5.0         5.0         0.0   \n",
       "1                  0.0         4.0         0.0         0.0         5.0   \n",
       "2                  0.0         0.0         0.0         0.0         0.0   \n",
       "3                  0.0         0.0         0.0         0.0         0.0   \n",
       "4                  0.0         5.0         0.0         0.0         0.0   \n",
       "\n",
       "productID   B00L21HC7A  B00L2442H0  B00L26YDA4  B00L3YHF6O  B00LGQ6HL8  \n",
       "user_index                                                              \n",
       "0                  5.0         0.0         3.0         0.0         0.0  \n",
       "1                  0.0         5.0         0.0         0.0         0.0  \n",
       "2                  0.0         0.0         0.0         0.0         5.0  \n",
       "3                  0.0         0.0         0.0         0.0         0.0  \n",
       "4                  0.0         0.0         0.0         0.0         0.0  \n",
       "\n",
       "[5 rows x 3863 columns]"
      ]
     },
     "execution_count": 43,
     "metadata": {},
     "output_type": "execute_result"
    }
   ],
   "source": [
    "final_df.head()"
   ]
  },
  {
   "cell_type": "markdown",
   "metadata": {},
   "source": [
    "### -----------------"
   ]
  },
  {
   "cell_type": "code",
   "execution_count": 44,
   "metadata": {},
   "outputs": [],
   "source": [
    "from scipy.sparse.linalg import svds"
   ]
  },
  {
   "cell_type": "code",
   "execution_count": 45,
   "metadata": {},
   "outputs": [],
   "source": [
    "# prepare 'UBCollabrativeFilter' class.\n",
    "class UBCollabrativeFilter:\n",
    "    \n",
    "    def __init__(self,actual_df):\n",
    "        self.actual_df = actual_df\n",
    "        \n",
    "    # To check the sparsity of the matrix\n",
    "    def checkSparsityOfData(self):\n",
    "        number_of_nozero_ratings = np.count_nonzero(self.actual_df)\n",
    "        sparsity = (1 - number_of_nozero_ratings / self.actual_df.size ) * 100\n",
    "        print('Num of non zero values: {}'.format(number_of_nozero_ratings))\n",
    "        print('Size of data: {}'.format(self.actual_df.size))\n",
    "        print('sparsity of the data is: {}%'.format(np.round(sparsity,2)))\n",
    "    \n",
    "    # To get the predicated rating for zero-ratings.\n",
    "    def getPredRatings(self):\n",
    "        pred_ratings_df = self.__svd_()\n",
    "        return pred_ratings_df\n",
    "       \n",
    "    # Calcualte SVD using actual data.\n",
    "    def __svd_(self):\n",
    "        # 'k' value should be between 1 and 'min(actual.shape)'.\n",
    "        k = min(self.actual_df.shape)\n",
    "        u,sigma,vt = svds(self.actual_df,k=k-1)\n",
    "        # Convert single D sigma to diagonal matrix.\n",
    "        sigma = np.diag(sigma)\n",
    "        # get dot product of u,sigma and vt.\n",
    "        pred_ratings_df = self.__dotProductAndPrepareDF(u,sigma,vt)\n",
    "        return pred_ratings_df\n",
    "    \n",
    "    # prepare dataframe from dot product of u, sigma and vt.\n",
    "    def __dotProductAndPrepareDF(self,u,sigma,vt):\n",
    "        pred_ratings_df = pd.DataFrame(np.dot(np.dot(u,sigma),vt),columns=self.actual_df.columns)\n",
    "        return pred_ratings_df\n",
    "    \n",
    "    # This method takes userId pred_df and no_recommendation as params.\n",
    "    # pred_df: is predicted ratings.\n",
    "    # no_recmmendation: is the count to show recommedations.\n",
    "    def recommendationUB(self,userId,pred_df,no_recmmendation):\n",
    "        # Here, reduce user_idx by one.\n",
    "        user_idx = userId-1\n",
    "        # get sorted actual ratings from actual df in Descending order.\n",
    "        sorted_actual_ratings = self.actual_df.iloc[user_idx].sort_values(ascending = False)\n",
    "        # get sorted pred ratings from pred df in Descending order.\n",
    "        sorted_pred_ratings = pred_df.iloc[user_idx].sort_values(ascending = False)\n",
    "        # concat actual and pred sorted ratings.\n",
    "        concat_df = pd.concat([sorted_actual_ratings,sorted_pred_ratings],axis=1)\n",
    "        concat_df.index.name = ['productID']\n",
    "        concat_df.columns = ['user_ratings','predicted_ratings']\n",
    "        # Filter concat df based on user_rating where 'user_ratings' has '0.0' ratings.\n",
    "        # Sort the filtered concat df based 'predicted_ratings'  in descending order.\n",
    "        concat_df = concat_df[concat_df.user_ratings == 0].sort_values('predicted_ratings',ascending = False)\n",
    "        print(concat_df.head(no_recmmendation))\n",
    "        mse_score = mean_squared_error(concat_df['user_ratings'],concat_df['predicted_ratings'])\n",
    "        rmse_score = math.sqrt(mse_score)\n",
    "        print('RMSE score: {}'.format(np.round(rmse_score,4)))\n",
    "    "
   ]
  },
  {
   "cell_type": "code",
   "execution_count": 46,
   "metadata": {},
   "outputs": [],
   "source": [
    "# Initialize the 'UBCollabrativeFilter' class with passing 'final_df'.\n",
    "ubCollabFilterObj = UBCollabrativeFilter(final_df)"
   ]
  },
  {
   "cell_type": "code",
   "execution_count": 47,
   "metadata": {},
   "outputs": [
    {
     "name": "stdout",
     "output_type": "stream",
     "text": [
      "Num of non zero values: 4553\n",
      "Size of data: 46356\n",
      "sparsity of the data is: 90.18%\n"
     ]
    }
   ],
   "source": [
    "# As we can see the matrix is sparsed.\n",
    "ubCollabFilterObj.checkSparsityOfData()"
   ]
  },
  {
   "cell_type": "code",
   "execution_count": 48,
   "metadata": {},
   "outputs": [],
   "source": [
    "# Get the prepdicated ratings by calling the 'getPredRatings()' method.\n",
    "predicted_ratings = ubCollabFilterObj.getPredRatings()"
   ]
  },
  {
   "cell_type": "code",
   "execution_count": 49,
   "metadata": {},
   "outputs": [
    {
     "data": {
      "text/html": [
       "<div>\n",
       "<style scoped>\n",
       "    .dataframe tbody tr th:only-of-type {\n",
       "        vertical-align: middle;\n",
       "    }\n",
       "\n",
       "    .dataframe tbody tr th {\n",
       "        vertical-align: top;\n",
       "    }\n",
       "\n",
       "    .dataframe thead th {\n",
       "        text-align: right;\n",
       "    }\n",
       "</style>\n",
       "<table border=\"1\" class=\"dataframe\">\n",
       "  <thead>\n",
       "    <tr style=\"text-align: right;\">\n",
       "      <th>productID</th>\n",
       "      <th>1400532655</th>\n",
       "      <th>9800359788</th>\n",
       "      <th>9981719005</th>\n",
       "      <th>B000001OMI</th>\n",
       "      <th>B00000J05A</th>\n",
       "      <th>B00000J1QS</th>\n",
       "      <th>B00000J1UQ</th>\n",
       "      <th>B00000J4CY</th>\n",
       "      <th>B00000JGNB</th>\n",
       "      <th>B00000JHX1</th>\n",
       "      <th>...</th>\n",
       "      <th>B00KNEBRT6</th>\n",
       "      <th>B00KVNY2KA</th>\n",
       "      <th>B00KWMNDDM</th>\n",
       "      <th>B00KYMCJF8</th>\n",
       "      <th>B00L1I80K2</th>\n",
       "      <th>B00L21HC7A</th>\n",
       "      <th>B00L2442H0</th>\n",
       "      <th>B00L26YDA4</th>\n",
       "      <th>B00L3YHF6O</th>\n",
       "      <th>B00LGQ6HL8</th>\n",
       "    </tr>\n",
       "  </thead>\n",
       "  <tbody>\n",
       "    <tr>\n",
       "      <th>0</th>\n",
       "      <td>-0.000163</td>\n",
       "      <td>-0.077951</td>\n",
       "      <td>0.010418</td>\n",
       "      <td>-0.010422</td>\n",
       "      <td>0.010617</td>\n",
       "      <td>-0.066284</td>\n",
       "      <td>0.017695</td>\n",
       "      <td>0.010617</td>\n",
       "      <td>-0.066284</td>\n",
       "      <td>-0.039203</td>\n",
       "      <td>...</td>\n",
       "      <td>4.780773</td>\n",
       "      <td>0.689313</td>\n",
       "      <td>4.780773</td>\n",
       "      <td>4.780773</td>\n",
       "      <td>0.976444</td>\n",
       "      <td>4.780773</td>\n",
       "      <td>0.959080</td>\n",
       "      <td>2.868464</td>\n",
       "      <td>-0.065491</td>\n",
       "      <td>-0.333982</td>\n",
       "    </tr>\n",
       "    <tr>\n",
       "      <th>1</th>\n",
       "      <td>0.000714</td>\n",
       "      <td>0.341023</td>\n",
       "      <td>-0.045578</td>\n",
       "      <td>0.045595</td>\n",
       "      <td>-0.046448</td>\n",
       "      <td>0.289981</td>\n",
       "      <td>-0.077413</td>\n",
       "      <td>-0.046448</td>\n",
       "      <td>0.289981</td>\n",
       "      <td>0.171507</td>\n",
       "      <td>...</td>\n",
       "      <td>0.959080</td>\n",
       "      <td>0.984368</td>\n",
       "      <td>0.959080</td>\n",
       "      <td>0.959080</td>\n",
       "      <td>0.728219</td>\n",
       "      <td>0.959080</td>\n",
       "      <td>0.804182</td>\n",
       "      <td>0.575448</td>\n",
       "      <td>0.286514</td>\n",
       "      <td>1.461117</td>\n",
       "    </tr>\n",
       "    <tr>\n",
       "      <th>2</th>\n",
       "      <td>-0.000248</td>\n",
       "      <td>-0.118755</td>\n",
       "      <td>0.015872</td>\n",
       "      <td>-0.015878</td>\n",
       "      <td>0.016175</td>\n",
       "      <td>-0.100981</td>\n",
       "      <td>0.026958</td>\n",
       "      <td>0.016175</td>\n",
       "      <td>-0.100981</td>\n",
       "      <td>-0.059724</td>\n",
       "      <td>...</td>\n",
       "      <td>-0.333982</td>\n",
       "      <td>1.050139</td>\n",
       "      <td>-0.333982</td>\n",
       "      <td>-0.333982</td>\n",
       "      <td>1.487570</td>\n",
       "      <td>-0.333982</td>\n",
       "      <td>1.461117</td>\n",
       "      <td>-0.200389</td>\n",
       "      <td>-0.099773</td>\n",
       "      <td>4.491193</td>\n",
       "    </tr>\n",
       "    <tr>\n",
       "      <th>3</th>\n",
       "      <td>-0.000002</td>\n",
       "      <td>-0.000948</td>\n",
       "      <td>0.000127</td>\n",
       "      <td>-0.000127</td>\n",
       "      <td>0.000129</td>\n",
       "      <td>-0.000806</td>\n",
       "      <td>0.000215</td>\n",
       "      <td>0.000129</td>\n",
       "      <td>-0.000806</td>\n",
       "      <td>-0.000477</td>\n",
       "      <td>...</td>\n",
       "      <td>-0.002665</td>\n",
       "      <td>0.008380</td>\n",
       "      <td>-0.002665</td>\n",
       "      <td>-0.002665</td>\n",
       "      <td>0.011871</td>\n",
       "      <td>-0.002665</td>\n",
       "      <td>0.011660</td>\n",
       "      <td>-0.001599</td>\n",
       "      <td>-0.000796</td>\n",
       "      <td>-0.004060</td>\n",
       "    </tr>\n",
       "    <tr>\n",
       "      <th>4</th>\n",
       "      <td>-0.000058</td>\n",
       "      <td>4.972283</td>\n",
       "      <td>0.003704</td>\n",
       "      <td>-0.003706</td>\n",
       "      <td>0.003775</td>\n",
       "      <td>-0.023569</td>\n",
       "      <td>0.006292</td>\n",
       "      <td>0.003775</td>\n",
       "      <td>-0.023569</td>\n",
       "      <td>-0.013940</td>\n",
       "      <td>...</td>\n",
       "      <td>-0.077951</td>\n",
       "      <td>5.245101</td>\n",
       "      <td>-0.077951</td>\n",
       "      <td>-0.077951</td>\n",
       "      <td>0.347197</td>\n",
       "      <td>-0.077951</td>\n",
       "      <td>0.341023</td>\n",
       "      <td>-0.046771</td>\n",
       "      <td>-0.023287</td>\n",
       "      <td>-0.118755</td>\n",
       "    </tr>\n",
       "  </tbody>\n",
       "</table>\n",
       "<p>5 rows × 3863 columns</p>\n",
       "</div>"
      ],
      "text/plain": [
       "productID  1400532655  9800359788  9981719005  B000001OMI  B00000J05A  \\\n",
       "0           -0.000163   -0.077951    0.010418   -0.010422    0.010617   \n",
       "1            0.000714    0.341023   -0.045578    0.045595   -0.046448   \n",
       "2           -0.000248   -0.118755    0.015872   -0.015878    0.016175   \n",
       "3           -0.000002   -0.000948    0.000127   -0.000127    0.000129   \n",
       "4           -0.000058    4.972283    0.003704   -0.003706    0.003775   \n",
       "\n",
       "productID  B00000J1QS  B00000J1UQ  B00000J4CY  B00000JGNB  B00000JHX1  ...  \\\n",
       "0           -0.066284    0.017695    0.010617   -0.066284   -0.039203  ...   \n",
       "1            0.289981   -0.077413   -0.046448    0.289981    0.171507  ...   \n",
       "2           -0.100981    0.026958    0.016175   -0.100981   -0.059724  ...   \n",
       "3           -0.000806    0.000215    0.000129   -0.000806   -0.000477  ...   \n",
       "4           -0.023569    0.006292    0.003775   -0.023569   -0.013940  ...   \n",
       "\n",
       "productID  B00KNEBRT6  B00KVNY2KA  B00KWMNDDM  B00KYMCJF8  B00L1I80K2  \\\n",
       "0            4.780773    0.689313    4.780773    4.780773    0.976444   \n",
       "1            0.959080    0.984368    0.959080    0.959080    0.728219   \n",
       "2           -0.333982    1.050139   -0.333982   -0.333982    1.487570   \n",
       "3           -0.002665    0.008380   -0.002665   -0.002665    0.011871   \n",
       "4           -0.077951    5.245101   -0.077951   -0.077951    0.347197   \n",
       "\n",
       "productID  B00L21HC7A  B00L2442H0  B00L26YDA4  B00L3YHF6O  B00LGQ6HL8  \n",
       "0            4.780773    0.959080    2.868464   -0.065491   -0.333982  \n",
       "1            0.959080    0.804182    0.575448    0.286514    1.461117  \n",
       "2           -0.333982    1.461117   -0.200389   -0.099773    4.491193  \n",
       "3           -0.002665    0.011660   -0.001599   -0.000796   -0.004060  \n",
       "4           -0.077951    0.341023   -0.046771   -0.023287   -0.118755  \n",
       "\n",
       "[5 rows x 3863 columns]"
      ]
     },
     "execution_count": 49,
     "metadata": {},
     "output_type": "execute_result"
    }
   ],
   "source": [
    "predicted_ratings.head()"
   ]
  },
  {
   "cell_type": "code",
   "execution_count": 51,
   "metadata": {},
   "outputs": [
    {
     "name": "stdout",
     "output_type": "stream",
     "text": [
      "             user_ratings  predicted_ratings\n",
      "[productID]                                 \n",
      "B00E3FHXYO            0.0           0.056553\n",
      "B00EDCF0MY            0.0           0.056553\n",
      "B0061GQ7PO            0.0           0.049950\n",
      "B00B3YQGHS            0.0           0.047117\n",
      "B00A1DJO12            0.0           0.044403\n",
      "RMSE score: 0.0194\n"
     ]
    }
   ],
   "source": [
    "# below are the top 5 recommendation for given user.\n",
    "user_id = 10\n",
    "no_recommedations = 5\n",
    "ubCollabFilterObj.recommendationUB(user_id,predicted_ratings,no_recommedations)"
   ]
  },
  {
   "cell_type": "code",
   "execution_count": null,
   "metadata": {},
   "outputs": [],
   "source": []
  }
 ],
 "metadata": {
  "kernelspec": {
   "display_name": "Python 3",
   "language": "python",
   "name": "python3"
  },
  "language_info": {
   "codemirror_mode": {
    "name": "ipython",
    "version": 3
   },
   "file_extension": ".py",
   "mimetype": "text/x-python",
   "name": "python",
   "nbconvert_exporter": "python",
   "pygments_lexer": "ipython3",
   "version": "3.7.3"
  }
 },
 "nbformat": 4,
 "nbformat_minor": 2
}
